{
 "cells": [
  {
   "cell_type": "markdown",
   "id": "5f7b25c8",
   "metadata": {},
   "source": [
    "# Importing Libaries"
   ]
  },
  {
   "cell_type": "code",
   "execution_count": null,
   "id": "61344e76",
   "metadata": {},
   "outputs": [],
   "source": [
    "import cv2\n",
    "import numpy as np\n",
    "from matplotlib import pyplot as plt"
   ]
  },
  {
   "cell_type": "markdown",
   "id": "64d57abd",
   "metadata": {},
   "source": [
    "# Reading image"
   ]
  },
  {
   "cell_type": "code",
   "execution_count": null,
   "id": "bcf99867",
   "metadata": {},
   "outputs": [],
   "source": [
    "image_path = 'img1.jpg'\n",
    "image = cv2.imread(image_path)"
   ]
  },
  {
   "cell_type": "markdown",
   "id": "a4c5c228",
   "metadata": {},
   "source": [
    "### Showing image"
   ]
  },
  {
   "cell_type": "code",
   "execution_count": null,
   "id": "f27f00e6",
   "metadata": {},
   "outputs": [],
   "source": [
    "plt.imshow(image)\n",
    "plt.title('Original Image')\n",
    "plt.axis('off')\n",
    "plt.show()"
   ]
  },
  {
   "cell_type": "markdown",
   "id": "dff38d56",
   "metadata": {},
   "source": [
    "### Blurring image"
   ]
  },
  {
   "cell_type": "code",
   "execution_count": null,
   "id": "e34ad0b4",
   "metadata": {},
   "outputs": [],
   "source": [
    "bilateral = cv2.bilateralFilter(image, 15, 150, 150)  \n",
    "bilateral_rgb = cv2.cvtColor(bilateral, cv2.COLOR_BGR2RGB)  \n",
    "plt.imshow(bilateral_rgb)\n",
    "plt.title('Bilateral Blurred Image')\n",
    "plt.axis('off')\n",
    "plt.show()"
   ]
  },
  {
   "cell_type": "markdown",
   "id": "f74cb81f",
   "metadata": {},
   "source": [
    "### Gray scaling image"
   ]
  },
  {
   "cell_type": "code",
   "execution_count": null,
   "id": "49d0727a",
   "metadata": {},
   "outputs": [],
   "source": [
    "gray_image = cv2.cvtColor(image, cv2.COLOR_BGR2GRAY)\n",
    "cv2.imshow('Grayscale', gray_image)\n",
    "cv2.waitKey(0)  \n",
    "cv2.destroyAllWindows()"
   ]
  },
  {
   "cell_type": "markdown",
   "id": "ce8ba758",
   "metadata": {},
   "source": [
    "### Edge detection"
   ]
  },
  {
   "cell_type": "code",
   "execution_count": null,
   "id": "e059055e",
   "metadata": {},
   "outputs": [],
   "source": [
    "image_rgb = cv2.cvtColor(image, cv2.COLOR_BGR2RGB)\n",
    "edges = cv2.Canny(image_rgb, 100, 700)\n",
    "fig, axs = plt.subplots(1, 2, figsize=(7, 4))\n",
    "axs[0].imshow(image_rgb), axs[0].set_title('Original Image')\n",
    "axs[1].imshow(edges), axs[1].set_title('Image Edges')\n",
    "for ax in axs:\n",
    "    ax.set_xticks([]), ax.set_yticks([])\n",
    "plt.tight_layout()\n",
    "plt.show()"
   ]
  },
  {
   "cell_type": "markdown",
   "id": "35f20644",
   "metadata": {},
   "source": [
    "### Transformaton into gamma_corrected"
   ]
  },
  {
   "cell_type": "code",
   "execution_count": null,
   "id": "252d5f29",
   "metadata": {},
   "outputs": [],
   "source": [
    "gamma_corrected = np.array(255*(image / 255) ** 1.2, dtype = 'uint8')\n",
    "plt.imshow(gamma_corrected)\n",
    "plt.title('gamma_corrected Image')\n",
    "plt.axis('off')\n",
    "plt.show()\n",
    "cv2.imshow(gamma_corrected)"
   ]
  },
  {
   "cell_type": "markdown",
   "id": "5951e336",
   "metadata": {},
   "source": [
    "### Equalizing image histogram"
   ]
  },
  {
   "cell_type": "code",
   "execution_count": null,
   "id": "9e07e3ce",
   "metadata": {},
   "outputs": [],
   "source": [
    "img = cv2.imread('img1.jpg', 0)  \n",
    "equ = cv2.equalizeHist(img)\n",
    "res = np.hstack((img, equ))\n",
    "plt.figure(figsize=(10, 5))\n",
    "plt.imshow(res, cmap='gray')  \n",
    "plt.title(\"Original vs Equalized Image\")\n",
    "plt.axis('off')  \n",
    "plt.show()"
   ]
  },
  {
   "cell_type": "markdown",
   "id": "209e0a3d",
   "metadata": {},
   "source": [
    "### CV2 color method"
   ]
  },
  {
   "cell_type": "code",
   "execution_count": null,
   "id": "3267eccb",
   "metadata": {},
   "outputs": [],
   "source": [
    "gray_image = cv2.cvtColor(image, cv2.COLOR_BGR2GRAY)\n",
    "cv2.imshow(\"Grayscale Image\", gray_image)\n",
    "cv2.waitKey(0)\n",
    "cv2.destroyAllWindows()"
   ]
  },
  {
   "cell_type": "markdown",
   "id": "e28373b1",
   "metadata": {},
   "source": [
    "### Looking images in different color spaces"
   ]
  },
  {
   "cell_type": "code",
   "execution_count": null,
   "id": "867750c3",
   "metadata": {},
   "outputs": [],
   "source": [
    "img = cv2.cvtColor(image, cv2.COLOR_BGR2YCrCb)\n",
    "cv2.imshow('image', img) \n",
    "cv2.waitKey(0)         \n",
    "cv2.destroyAllWindows()"
   ]
  }
 ],
 "metadata": {
  "kernelspec": {
   "display_name": "venv",
   "language": "python",
   "name": "python3"
  },
  "language_info": {
   "name": "python",
   "version": "3.13.7"
  }
 },
 "nbformat": 4,
 "nbformat_minor": 5
}
