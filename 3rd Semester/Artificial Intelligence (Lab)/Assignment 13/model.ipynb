{
 "cells": [
  {
   "cell_type": "markdown",
   "metadata": {},
   "source": [
    "# Used Car Price Prediction"
   ]
  },
  {
   "cell_type": "markdown",
   "metadata": {},
   "source": [
    "## Import Liberaries"
   ]
  },
  {
   "cell_type": "code",
   "execution_count": 20,
   "metadata": {},
   "outputs": [],
   "source": [
    "import pandas as pd\n",
    "import pickle\n",
    "from sklearn.preprocessing import LabelEncoder\n",
    "from sklearn.model_selection import train_test_split\n",
    "from sklearn.linear_model import LinearRegression\n",
    "from sklearn.metrics import mean_squared_error, r2_score\n",
    "from sklearn.ensemble import RandomForestRegressor\n",
    "from sklearn.svm import SVR"
   ]
  },
  {
   "cell_type": "markdown",
   "metadata": {},
   "source": [
    "## Load The Data"
   ]
  },
  {
   "cell_type": "code",
   "execution_count": 21,
   "metadata": {},
   "outputs": [
    {
     "data": {
      "text/html": [
       "<div>\n",
       "<style scoped>\n",
       "    .dataframe tbody tr th:only-of-type {\n",
       "        vertical-align: middle;\n",
       "    }\n",
       "\n",
       "    .dataframe tbody tr th {\n",
       "        vertical-align: top;\n",
       "    }\n",
       "\n",
       "    .dataframe thead th {\n",
       "        text-align: right;\n",
       "    }\n",
       "</style>\n",
       "<table border=\"1\" class=\"dataframe\">\n",
       "  <thead>\n",
       "    <tr style=\"text-align: right;\">\n",
       "      <th></th>\n",
       "      <th>name</th>\n",
       "      <th>year</th>\n",
       "      <th>selling_price</th>\n",
       "      <th>km_driven</th>\n",
       "      <th>fuel</th>\n",
       "      <th>seller_type</th>\n",
       "      <th>transmission</th>\n",
       "      <th>owner</th>\n",
       "      <th>mileage(km/ltr/kg)</th>\n",
       "      <th>engine</th>\n",
       "      <th>max_power</th>\n",
       "      <th>seats</th>\n",
       "    </tr>\n",
       "  </thead>\n",
       "  <tbody>\n",
       "    <tr>\n",
       "      <th>0</th>\n",
       "      <td>Maruti Swift Dzire VDI</td>\n",
       "      <td>2014</td>\n",
       "      <td>450000</td>\n",
       "      <td>145500</td>\n",
       "      <td>Diesel</td>\n",
       "      <td>Individual</td>\n",
       "      <td>Manual</td>\n",
       "      <td>First Owner</td>\n",
       "      <td>23.40</td>\n",
       "      <td>1248.0</td>\n",
       "      <td>74</td>\n",
       "      <td>5.0</td>\n",
       "    </tr>\n",
       "    <tr>\n",
       "      <th>1</th>\n",
       "      <td>Skoda Rapid 1.5 TDI Ambition</td>\n",
       "      <td>2014</td>\n",
       "      <td>370000</td>\n",
       "      <td>120000</td>\n",
       "      <td>Diesel</td>\n",
       "      <td>Individual</td>\n",
       "      <td>Manual</td>\n",
       "      <td>Second Owner</td>\n",
       "      <td>21.14</td>\n",
       "      <td>1498.0</td>\n",
       "      <td>103.52</td>\n",
       "      <td>5.0</td>\n",
       "    </tr>\n",
       "    <tr>\n",
       "      <th>2</th>\n",
       "      <td>Honda City 2017-2020 EXi</td>\n",
       "      <td>2006</td>\n",
       "      <td>158000</td>\n",
       "      <td>140000</td>\n",
       "      <td>Petrol</td>\n",
       "      <td>Individual</td>\n",
       "      <td>Manual</td>\n",
       "      <td>Third Owner</td>\n",
       "      <td>17.70</td>\n",
       "      <td>1497.0</td>\n",
       "      <td>78</td>\n",
       "      <td>5.0</td>\n",
       "    </tr>\n",
       "    <tr>\n",
       "      <th>3</th>\n",
       "      <td>Hyundai i20 Sportz Diesel</td>\n",
       "      <td>2010</td>\n",
       "      <td>225000</td>\n",
       "      <td>127000</td>\n",
       "      <td>Diesel</td>\n",
       "      <td>Individual</td>\n",
       "      <td>Manual</td>\n",
       "      <td>First Owner</td>\n",
       "      <td>23.00</td>\n",
       "      <td>1396.0</td>\n",
       "      <td>90</td>\n",
       "      <td>5.0</td>\n",
       "    </tr>\n",
       "    <tr>\n",
       "      <th>4</th>\n",
       "      <td>Maruti Swift VXI BSIII</td>\n",
       "      <td>2007</td>\n",
       "      <td>130000</td>\n",
       "      <td>120000</td>\n",
       "      <td>Petrol</td>\n",
       "      <td>Individual</td>\n",
       "      <td>Manual</td>\n",
       "      <td>First Owner</td>\n",
       "      <td>16.10</td>\n",
       "      <td>1298.0</td>\n",
       "      <td>88.2</td>\n",
       "      <td>5.0</td>\n",
       "    </tr>\n",
       "  </tbody>\n",
       "</table>\n",
       "</div>"
      ],
      "text/plain": [
       "                           name  year  selling_price  km_driven    fuel  \\\n",
       "0        Maruti Swift Dzire VDI  2014         450000     145500  Diesel   \n",
       "1  Skoda Rapid 1.5 TDI Ambition  2014         370000     120000  Diesel   \n",
       "2      Honda City 2017-2020 EXi  2006         158000     140000  Petrol   \n",
       "3     Hyundai i20 Sportz Diesel  2010         225000     127000  Diesel   \n",
       "4        Maruti Swift VXI BSIII  2007         130000     120000  Petrol   \n",
       "\n",
       "  seller_type transmission         owner  mileage(km/ltr/kg)  engine  \\\n",
       "0  Individual       Manual   First Owner               23.40  1248.0   \n",
       "1  Individual       Manual  Second Owner               21.14  1498.0   \n",
       "2  Individual       Manual   Third Owner               17.70  1497.0   \n",
       "3  Individual       Manual   First Owner               23.00  1396.0   \n",
       "4  Individual       Manual   First Owner               16.10  1298.0   \n",
       "\n",
       "  max_power  seats  \n",
       "0        74    5.0  \n",
       "1    103.52    5.0  \n",
       "2        78    5.0  \n",
       "3        90    5.0  \n",
       "4      88.2    5.0  "
      ]
     },
     "execution_count": 21,
     "metadata": {},
     "output_type": "execute_result"
    }
   ],
   "source": [
    "df=pd.read_csv('used_cars_dataset.csv')\n",
    "df.head()"
   ]
  },
  {
   "cell_type": "code",
   "execution_count": 22,
   "metadata": {},
   "outputs": [
    {
     "name": "stdout",
     "output_type": "stream",
     "text": [
      "<class 'pandas.core.frame.DataFrame'>\n",
      "RangeIndex: 8128 entries, 0 to 8127\n",
      "Data columns (total 12 columns):\n",
      " #   Column              Non-Null Count  Dtype  \n",
      "---  ------              --------------  -----  \n",
      " 0   name                8128 non-null   object \n",
      " 1   year                8128 non-null   int64  \n",
      " 2   selling_price       8128 non-null   int64  \n",
      " 3   km_driven           8128 non-null   int64  \n",
      " 4   fuel                8128 non-null   object \n",
      " 5   seller_type         8128 non-null   object \n",
      " 6   transmission        8128 non-null   object \n",
      " 7   owner               8128 non-null   object \n",
      " 8   mileage(km/ltr/kg)  7907 non-null   float64\n",
      " 9   engine              7907 non-null   float64\n",
      " 10  max_power           7913 non-null   object \n",
      " 11  seats               7907 non-null   float64\n",
      "dtypes: float64(3), int64(3), object(6)\n",
      "memory usage: 762.1+ KB\n"
     ]
    }
   ],
   "source": [
    "df.info()"
   ]
  },
  {
   "cell_type": "code",
   "execution_count": 23,
   "metadata": {},
   "outputs": [
    {
     "data": {
      "text/plain": [
       "Index(['name', 'year', 'selling_price', 'km_driven', 'fuel', 'seller_type',\n",
       "       'transmission', 'owner', 'mileage(km/ltr/kg)', 'engine', 'max_power',\n",
       "       'seats'],\n",
       "      dtype='object')"
      ]
     },
     "execution_count": 23,
     "metadata": {},
     "output_type": "execute_result"
    }
   ],
   "source": [
    "df.columns"
   ]
  },
  {
   "cell_type": "code",
   "execution_count": 24,
   "metadata": {},
   "outputs": [
    {
     "data": {
      "text/plain": [
       "(8128, 12)"
      ]
     },
     "execution_count": 24,
     "metadata": {},
     "output_type": "execute_result"
    }
   ],
   "source": [
    "df.shape"
   ]
  },
  {
   "cell_type": "markdown",
   "metadata": {},
   "source": [
    "## Copying the Dataset for safe use"
   ]
  },
  {
   "cell_type": "code",
   "execution_count": 25,
   "metadata": {},
   "outputs": [],
   "source": [
    "df_copy=df.copy()"
   ]
  },
  {
   "cell_type": "markdown",
   "metadata": {},
   "source": [
    "## Data PreProcessing"
   ]
  },
  {
   "cell_type": "code",
   "execution_count": 26,
   "metadata": {},
   "outputs": [],
   "source": [
    "# Dropping unnecessary columns\n",
    "df_copy.drop([\"name\"],axis=1,inplace=True)\n",
    "\n",
    "# Converting year into age for better processing\n",
    "df_copy[\"car_age\"]=2025 - df_copy[\"year\"]\n",
    "df_copy.drop(\"year\",axis=1,inplace=True)\n",
    "\n",
    "# Clean numerical-like columns\n",
    "for col in [\"mileage(km/ltr/kg)\", \"engine\", \"max_power\"]:\n",
    "    df_copy[col] = df_copy[col].astype(str).str.extract(r\"(\\d+\\.?\\d*)\")[0]\n",
    "    df_copy[col] = pd.to_numeric(df_copy[col])\n",
    "\n",
    "# Encode categorical columns\n",
    "encoder=LabelEncoder()\n",
    "for col in [\"fuel\",\"seller_type\",\"transmission\",\"owner\"]:\n",
    "    if col in df_copy.columns and df_copy[col].dtype==\"object\":\n",
    "        df_copy[col]=encoder.fit_transform(df_copy[col])\n",
    "\n",
    "# Fill missing values\n",
    "df_copy[\"mileage(km/ltr/kg)\"].fillna(df_copy[\"mileage(km/ltr/kg)\"].median(), inplace=True)\n",
    "df_copy[\"engine\"].fillna(df_copy[\"engine\"].median(), inplace=True)\n",
    "df_copy[\"max_power\"].fillna(df_copy[\"max_power\"].median(), inplace=True)\n",
    "df_copy[\"seats\"].fillna(df_copy[\"seats\"].mode()[0], inplace=True)"
   ]
  },
  {
   "cell_type": "markdown",
   "metadata": {},
   "source": [
    "## Spliting the data"
   ]
  },
  {
   "cell_type": "code",
   "execution_count": 27,
   "metadata": {},
   "outputs": [],
   "source": [
    "X=df_copy.drop(\"selling_price\", axis=1)\n",
    "y=df_copy[\"selling_price\"]\n",
    "X_train,X_test,y_train,y_test=train_test_split(X,y,test_size=0.2,random_state=42)"
   ]
  },
  {
   "cell_type": "markdown",
   "metadata": {},
   "source": [
    "## Train The Model"
   ]
  },
  {
   "cell_type": "code",
   "execution_count": 28,
   "metadata": {},
   "outputs": [
    {
     "name": "stdout",
     "output_type": "stream",
     "text": [
      "Linear Regression MSE: 207737269400.9737\n",
      "Linear Regression R2 Score: 0.683078259992373\n"
     ]
    }
   ],
   "source": [
    "# Linear Regression Model\n",
    "linear_model=LinearRegression()\n",
    "linear_model.fit(X_train,y_train)\n",
    "\n",
    "# Predicting\n",
    "linear_predict=linear_model.predict(X_test)\n",
    "\n",
    "# Evaluate\n",
    "mse=mean_squared_error(y_test,linear_predict)\n",
    "R2=r2_score(y_test,linear_predict)\n",
    "\n",
    "# Result\n",
    "print(\"Linear Regression MSE:\",mse)\n",
    "print(\"Linear Regression R2 Score:\",R2)"
   ]
  },
  {
   "cell_type": "code",
   "execution_count": 29,
   "metadata": {},
   "outputs": [
    {
     "name": "stdout",
     "output_type": "stream",
     "text": [
      "Random Forest MSE: 21002395110.354004\n",
      "Random Forest R2 Score: 0.9679589723023967\n"
     ]
    }
   ],
   "source": [
    "#Random Forest Regressor\n",
    "random_forest_model=RandomForestRegressor(n_estimators=100,random_state=42)\n",
    "random_forest_model.fit(X_train, y_train)\n",
    "\n",
    "# Predicting\n",
    "random_forest_predict=random_forest_model.predict(X_test)\n",
    "\n",
    "# Evaluate\n",
    "mse=mean_squared_error(y_test,random_forest_predict)\n",
    "R2=r2_score(y_test,random_forest_predict)\n",
    "\n",
    "# Result\n",
    "print(\"Random Forest MSE:\",mse)\n",
    "print(\"Random Forest R2 Score:\",R2)"
   ]
  },
  {
   "cell_type": "code",
   "execution_count": 30,
   "metadata": {},
   "outputs": [
    {
     "name": "stdout",
     "output_type": "stream",
     "text": [
      "SVR MSE: 690173075320.5261\n",
      "SVR R2 Score: -0.05292060768740847\n"
     ]
    }
   ],
   "source": [
    "#SVR model\n",
    "svr_model=SVR()\n",
    "svr_model.fit(X_train, y_train)\n",
    "\n",
    "# Predicting\n",
    "svr_predict=svr_model.predict(X_test)\n",
    "\n",
    "# Evaluate\n",
    "mse=mean_squared_error(y_test,svr_predict)\n",
    "R2=r2_score(y_test,svr_predict)\n",
    "\n",
    "# Result\n",
    "print(\"SVR MSE:\", mse)\n",
    "print(\"SVR R2 Score:\", R2)"
   ]
  },
  {
   "cell_type": "markdown",
   "metadata": {},
   "source": [
    "### Saving the models"
   ]
  },
  {
   "cell_type": "code",
   "execution_count": 31,
   "metadata": {},
   "outputs": [],
   "source": [
    "# with open('linear_model.pkl', 'wb') as f:\n",
    "#     pickle.dump(linear_model, f)\n",
    "# with open('rf_model.pkl', 'wb') as f:\n",
    "#     pickle.dump(random_forest_model, f)\n",
    "# with open('svr_model.pkl', 'wb') as f:\n",
    "#     pickle.dump(svr_model, f)"
   ]
  }
 ],
 "metadata": {
  "kernelspec": {
   "display_name": "base",
   "language": "python",
   "name": "python3"
  },
  "language_info": {
   "codemirror_mode": {
    "name": "ipython",
    "version": 3
   },
   "file_extension": ".py",
   "mimetype": "text/x-python",
   "name": "python",
   "nbconvert_exporter": "python",
   "pygments_lexer": "ipython3",
   "version": "3.11.5"
  }
 },
 "nbformat": 4,
 "nbformat_minor": 2
}
