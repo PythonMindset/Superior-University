{
 "cells": [
  {
   "cell_type": "markdown",
   "metadata": {},
   "source": [
    "# Task 1"
   ]
  },
  {
   "cell_type": "markdown",
   "metadata": {},
   "source": [
    "### Importing Library"
   ]
  },
  {
   "cell_type": "code",
   "execution_count": 1,
   "metadata": {},
   "outputs": [],
   "source": [
    "import pandas as pd"
   ]
  },
  {
   "cell_type": "markdown",
   "metadata": {},
   "source": [
    "### Data Loading / Reading"
   ]
  },
  {
   "cell_type": "code",
   "execution_count": 2,
   "metadata": {},
   "outputs": [],
   "source": [
    "ds=pd.read_csv(\"dataset.csv\")"
   ]
  },
  {
   "cell_type": "markdown",
   "metadata": {},
   "source": [
    "### Data Exploration"
   ]
  },
  {
   "cell_type": "code",
   "execution_count": 3,
   "metadata": {},
   "outputs": [
    {
     "name": "stdout",
     "output_type": "stream",
     "text": [
      "Number of rows: 10954.\n",
      "Number of columns: 7.\n"
     ]
    }
   ],
   "source": [
    "print(f\"Number of rows: {ds.shape[0]}.\")\n",
    "print(f\"Number of columns: {ds.shape[1]}.\")"
   ]
  },
  {
   "cell_type": "code",
   "execution_count": 4,
   "metadata": {},
   "outputs": [
    {
     "data": {
      "text/html": [
       "<div>\n",
       "<style scoped>\n",
       "    .dataframe tbody tr th:only-of-type {\n",
       "        vertical-align: middle;\n",
       "    }\n",
       "\n",
       "    .dataframe tbody tr th {\n",
       "        vertical-align: top;\n",
       "    }\n",
       "\n",
       "    .dataframe thead th {\n",
       "        text-align: right;\n",
       "    }\n",
       "</style>\n",
       "<table border=\"1\" class=\"dataframe\">\n",
       "  <thead>\n",
       "    <tr style=\"text-align: right;\">\n",
       "      <th></th>\n",
       "      <th>Date</th>\n",
       "      <th>Open</th>\n",
       "      <th>High</th>\n",
       "      <th>Low</th>\n",
       "      <th>Close</th>\n",
       "      <th>Adj Close</th>\n",
       "      <th>Volume</th>\n",
       "    </tr>\n",
       "  </thead>\n",
       "  <tbody>\n",
       "    <tr>\n",
       "      <th>0</th>\n",
       "      <td>1980-12-12</td>\n",
       "      <td>0.128348</td>\n",
       "      <td>0.128906</td>\n",
       "      <td>0.128348</td>\n",
       "      <td>0.128348</td>\n",
       "      <td>0.099058</td>\n",
       "      <td>469033600</td>\n",
       "    </tr>\n",
       "    <tr>\n",
       "      <th>1</th>\n",
       "      <td>1980-12-15</td>\n",
       "      <td>0.122210</td>\n",
       "      <td>0.122210</td>\n",
       "      <td>0.121652</td>\n",
       "      <td>0.121652</td>\n",
       "      <td>0.093890</td>\n",
       "      <td>175884800</td>\n",
       "    </tr>\n",
       "    <tr>\n",
       "      <th>2</th>\n",
       "      <td>1980-12-16</td>\n",
       "      <td>0.113281</td>\n",
       "      <td>0.113281</td>\n",
       "      <td>0.112723</td>\n",
       "      <td>0.112723</td>\n",
       "      <td>0.086999</td>\n",
       "      <td>105728000</td>\n",
       "    </tr>\n",
       "  </tbody>\n",
       "</table>\n",
       "</div>"
      ],
      "text/plain": [
       "         Date      Open      High       Low     Close  Adj Close     Volume\n",
       "0  1980-12-12  0.128348  0.128906  0.128348  0.128348   0.099058  469033600\n",
       "1  1980-12-15  0.122210  0.122210  0.121652  0.121652   0.093890  175884800\n",
       "2  1980-12-16  0.113281  0.113281  0.112723  0.112723   0.086999  105728000"
      ]
     },
     "execution_count": 4,
     "metadata": {},
     "output_type": "execute_result"
    }
   ],
   "source": [
    "ds.head(3)"
   ]
  },
  {
   "cell_type": "code",
   "execution_count": 5,
   "metadata": {},
   "outputs": [
    {
     "data": {
      "text/html": [
       "<div>\n",
       "<style scoped>\n",
       "    .dataframe tbody tr th:only-of-type {\n",
       "        vertical-align: middle;\n",
       "    }\n",
       "\n",
       "    .dataframe tbody tr th {\n",
       "        vertical-align: top;\n",
       "    }\n",
       "\n",
       "    .dataframe thead th {\n",
       "        text-align: right;\n",
       "    }\n",
       "</style>\n",
       "<table border=\"1\" class=\"dataframe\">\n",
       "  <thead>\n",
       "    <tr style=\"text-align: right;\">\n",
       "      <th></th>\n",
       "      <th>Date</th>\n",
       "      <th>Open</th>\n",
       "      <th>High</th>\n",
       "      <th>Low</th>\n",
       "      <th>Close</th>\n",
       "      <th>Adj Close</th>\n",
       "      <th>Volume</th>\n",
       "    </tr>\n",
       "  </thead>\n",
       "  <tbody>\n",
       "    <tr>\n",
       "      <th>10951</th>\n",
       "      <td>2024-05-22</td>\n",
       "      <td>192.270004</td>\n",
       "      <td>192.820007</td>\n",
       "      <td>190.270004</td>\n",
       "      <td>190.899994</td>\n",
       "      <td>190.899994</td>\n",
       "      <td>34648500</td>\n",
       "    </tr>\n",
       "    <tr>\n",
       "      <th>10952</th>\n",
       "      <td>2024-05-23</td>\n",
       "      <td>190.979996</td>\n",
       "      <td>191.000000</td>\n",
       "      <td>186.630005</td>\n",
       "      <td>186.880005</td>\n",
       "      <td>186.880005</td>\n",
       "      <td>51005900</td>\n",
       "    </tr>\n",
       "    <tr>\n",
       "      <th>10953</th>\n",
       "      <td>2024-05-24</td>\n",
       "      <td>188.820007</td>\n",
       "      <td>190.580002</td>\n",
       "      <td>188.039993</td>\n",
       "      <td>189.979996</td>\n",
       "      <td>189.979996</td>\n",
       "      <td>36294600</td>\n",
       "    </tr>\n",
       "  </tbody>\n",
       "</table>\n",
       "</div>"
      ],
      "text/plain": [
       "             Date        Open        High         Low       Close   Adj Close  \\\n",
       "10951  2024-05-22  192.270004  192.820007  190.270004  190.899994  190.899994   \n",
       "10952  2024-05-23  190.979996  191.000000  186.630005  186.880005  186.880005   \n",
       "10953  2024-05-24  188.820007  190.580002  188.039993  189.979996  189.979996   \n",
       "\n",
       "         Volume  \n",
       "10951  34648500  \n",
       "10952  51005900  \n",
       "10953  36294600  "
      ]
     },
     "execution_count": 5,
     "metadata": {},
     "output_type": "execute_result"
    }
   ],
   "source": [
    "ds.tail(3)"
   ]
  },
  {
   "cell_type": "code",
   "execution_count": 6,
   "metadata": {},
   "outputs": [
    {
     "data": {
      "text/html": [
       "<div>\n",
       "<style scoped>\n",
       "    .dataframe tbody tr th:only-of-type {\n",
       "        vertical-align: middle;\n",
       "    }\n",
       "\n",
       "    .dataframe tbody tr th {\n",
       "        vertical-align: top;\n",
       "    }\n",
       "\n",
       "    .dataframe thead th {\n",
       "        text-align: right;\n",
       "    }\n",
       "</style>\n",
       "<table border=\"1\" class=\"dataframe\">\n",
       "  <thead>\n",
       "    <tr style=\"text-align: right;\">\n",
       "      <th></th>\n",
       "      <th>Open</th>\n",
       "      <th>High</th>\n",
       "      <th>Low</th>\n",
       "      <th>Close</th>\n",
       "      <th>Adj Close</th>\n",
       "      <th>Volume</th>\n",
       "    </tr>\n",
       "  </thead>\n",
       "  <tbody>\n",
       "    <tr>\n",
       "      <th>count</th>\n",
       "      <td>10954.000000</td>\n",
       "      <td>10954.000000</td>\n",
       "      <td>10954.000000</td>\n",
       "      <td>10954.000000</td>\n",
       "      <td>10954.000000</td>\n",
       "      <td>1.095400e+04</td>\n",
       "    </tr>\n",
       "    <tr>\n",
       "      <th>mean</th>\n",
       "      <td>21.530877</td>\n",
       "      <td>21.761904</td>\n",
       "      <td>21.308220</td>\n",
       "      <td>21.544072</td>\n",
       "      <td>20.747506</td>\n",
       "      <td>3.190792e+08</td>\n",
       "    </tr>\n",
       "    <tr>\n",
       "      <th>std</th>\n",
       "      <td>44.458386</td>\n",
       "      <td>44.931856</td>\n",
       "      <td>44.013578</td>\n",
       "      <td>44.492483</td>\n",
       "      <td>44.038943</td>\n",
       "      <td>3.357446e+08</td>\n",
       "    </tr>\n",
       "    <tr>\n",
       "      <th>min</th>\n",
       "      <td>0.049665</td>\n",
       "      <td>0.049665</td>\n",
       "      <td>0.049107</td>\n",
       "      <td>0.049107</td>\n",
       "      <td>0.037900</td>\n",
       "      <td>0.000000e+00</td>\n",
       "    </tr>\n",
       "    <tr>\n",
       "      <th>25%</th>\n",
       "      <td>0.296875</td>\n",
       "      <td>0.303571</td>\n",
       "      <td>0.290179</td>\n",
       "      <td>0.296875</td>\n",
       "      <td>0.241624</td>\n",
       "      <td>1.139936e+08</td>\n",
       "    </tr>\n",
       "    <tr>\n",
       "      <th>50%</th>\n",
       "      <td>0.522321</td>\n",
       "      <td>0.533482</td>\n",
       "      <td>0.513393</td>\n",
       "      <td>0.524554</td>\n",
       "      <td>0.427333</td>\n",
       "      <td>2.067128e+08</td>\n",
       "    </tr>\n",
       "    <tr>\n",
       "      <th>75%</th>\n",
       "      <td>19.767500</td>\n",
       "      <td>19.888572</td>\n",
       "      <td>19.457768</td>\n",
       "      <td>19.682679</td>\n",
       "      <td>17.048054</td>\n",
       "      <td>3.993444e+08</td>\n",
       "    </tr>\n",
       "    <tr>\n",
       "      <th>max</th>\n",
       "      <td>198.020004</td>\n",
       "      <td>199.619995</td>\n",
       "      <td>197.000000</td>\n",
       "      <td>198.110001</td>\n",
       "      <td>197.589523</td>\n",
       "      <td>7.421641e+09</td>\n",
       "    </tr>\n",
       "  </tbody>\n",
       "</table>\n",
       "</div>"
      ],
      "text/plain": [
       "               Open          High           Low         Close     Adj Close  \\\n",
       "count  10954.000000  10954.000000  10954.000000  10954.000000  10954.000000   \n",
       "mean      21.530877     21.761904     21.308220     21.544072     20.747506   \n",
       "std       44.458386     44.931856     44.013578     44.492483     44.038943   \n",
       "min        0.049665      0.049665      0.049107      0.049107      0.037900   \n",
       "25%        0.296875      0.303571      0.290179      0.296875      0.241624   \n",
       "50%        0.522321      0.533482      0.513393      0.524554      0.427333   \n",
       "75%       19.767500     19.888572     19.457768     19.682679     17.048054   \n",
       "max      198.020004    199.619995    197.000000    198.110001    197.589523   \n",
       "\n",
       "             Volume  \n",
       "count  1.095400e+04  \n",
       "mean   3.190792e+08  \n",
       "std    3.357446e+08  \n",
       "min    0.000000e+00  \n",
       "25%    1.139936e+08  \n",
       "50%    2.067128e+08  \n",
       "75%    3.993444e+08  \n",
       "max    7.421641e+09  "
      ]
     },
     "execution_count": 6,
     "metadata": {},
     "output_type": "execute_result"
    }
   ],
   "source": [
    "ds.describe()"
   ]
  },
  {
   "cell_type": "code",
   "execution_count": 7,
   "metadata": {},
   "outputs": [
    {
     "name": "stdout",
     "output_type": "stream",
     "text": [
      "<class 'pandas.core.frame.DataFrame'>\n",
      "RangeIndex: 10954 entries, 0 to 10953\n",
      "Data columns (total 7 columns):\n",
      " #   Column     Non-Null Count  Dtype  \n",
      "---  ------     --------------  -----  \n",
      " 0   Date       10954 non-null  object \n",
      " 1   Open       10954 non-null  float64\n",
      " 2   High       10954 non-null  float64\n",
      " 3   Low        10954 non-null  float64\n",
      " 4   Close      10954 non-null  float64\n",
      " 5   Adj Close  10954 non-null  float64\n",
      " 6   Volume     10954 non-null  int64  \n",
      "dtypes: float64(5), int64(1), object(1)\n",
      "memory usage: 599.2+ KB\n"
     ]
    }
   ],
   "source": [
    "ds.info()"
   ]
  },
  {
   "cell_type": "code",
   "execution_count": 8,
   "metadata": {},
   "outputs": [
    {
     "name": "stdout",
     "output_type": "stream",
     "text": [
      "1: Date\n",
      "2: Open\n",
      "3: High\n",
      "4: Low\n",
      "5: Close\n",
      "6: Adj Close\n",
      "7: Volume\n"
     ]
    }
   ],
   "source": [
    "j=0\n",
    "for i in ds.columns:\n",
    "    j+=1\n",
    "    print(f\"{j}: {i}\")"
   ]
  },
  {
   "cell_type": "code",
   "execution_count": 9,
   "metadata": {},
   "outputs": [
    {
     "data": {
      "text/plain": [
       "Date         10954\n",
       "Open         10954\n",
       "High         10954\n",
       "Low          10954\n",
       "Close        10954\n",
       "Adj Close    10954\n",
       "Volume       10954\n",
       "dtype: int64"
      ]
     },
     "execution_count": 9,
     "metadata": {},
     "output_type": "execute_result"
    }
   ],
   "source": [
    "ds.count()"
   ]
  },
  {
   "cell_type": "code",
   "execution_count": 10,
   "metadata": {},
   "outputs": [
    {
     "data": {
      "text/plain": [
       "array([469033600, 175884800, 105728000, ...,  34648500,  51005900,\n",
       "        36294600], dtype=int64)"
      ]
     },
     "execution_count": 10,
     "metadata": {},
     "output_type": "execute_result"
    }
   ],
   "source": [
    "ds[\"Volume\"].unique()"
   ]
  },
  {
   "cell_type": "code",
   "execution_count": 11,
   "metadata": {},
   "outputs": [
    {
     "data": {
      "text/plain": [
       "Date         10954\n",
       "Open          6262\n",
       "High          6205\n",
       "Low           6194\n",
       "Close         6370\n",
       "Adj Close     7938\n",
       "Volume       10390\n",
       "dtype: int64"
      ]
     },
     "execution_count": 11,
     "metadata": {},
     "output_type": "execute_result"
    }
   ],
   "source": [
    "ds.nunique()"
   ]
  },
  {
   "cell_type": "code",
   "execution_count": 13,
   "metadata": {},
   "outputs": [
    {
     "data": {
      "text/plain": [
       "Date         0\n",
       "Open         0\n",
       "High         0\n",
       "Low          0\n",
       "Close        0\n",
       "Adj Close    0\n",
       "Volume       0\n",
       "dtype: int64"
      ]
     },
     "execution_count": 13,
     "metadata": {},
     "output_type": "execute_result"
    }
   ],
   "source": [
    "ds.isnull().sum()"
   ]
  },
  {
   "cell_type": "markdown",
   "metadata": {},
   "source": [
    "# Task 2"
   ]
  },
  {
   "cell_type": "markdown",
   "metadata": {},
   "source": [
    "### Data Pre-Processing"
   ]
  },
  {
   "cell_type": "markdown",
   "metadata": {},
   "source": [
    "### Dealing with null-values"
   ]
  },
  {
   "cell_type": "code",
   "execution_count": 16,
   "metadata": {},
   "outputs": [],
   "source": [
    "# Filling missing values with mean\n",
    "def fill_Mean(cols):\n",
    "    for i in cols:\n",
    "        ds[i] = ds[i].fillna(ds[i].mean())\n",
    "\n",
    "columns = ['Open', 'Close', 'High', 'Low']\n",
    "fill_Mean(columns)"
   ]
  },
  {
   "cell_type": "code",
   "execution_count": 18,
   "metadata": {},
   "outputs": [],
   "source": [
    "# Filling missing values with mode\n",
    "def fill_Mode(cols):\n",
    "    for i in cols:\n",
    "        ds[i] = ds[i].fillna(ds[i].mode()[0])\n",
    "\n",
    "columns = ['Open', 'Close', 'High', 'Low']\n",
    "fill_Mode(columns)"
   ]
  },
  {
   "cell_type": "code",
   "execution_count": 23,
   "metadata": {},
   "outputs": [
    {
     "data": {
      "text/plain": [
       "<bound method DataFrame.info of              Date        Open        High         Low       Close   Adj Close\n",
       "0      1980-12-12    0.128348    0.128906    0.128348    0.128348    0.099058\n",
       "1      1980-12-15    0.122210    0.122210    0.121652    0.121652    0.093890\n",
       "2      1980-12-16    0.113281    0.113281    0.112723    0.112723    0.086999\n",
       "3      1980-12-17    0.115513    0.116071    0.115513    0.115513    0.089152\n",
       "4      1980-12-18    0.118862    0.119420    0.118862    0.118862    0.091737\n",
       "...           ...         ...         ...         ...         ...         ...\n",
       "10949  2024-05-20  189.330002  191.919998  189.009995  191.039993  191.039993\n",
       "10950  2024-05-21  191.089996  192.729996  190.919998  192.350006  192.350006\n",
       "10951  2024-05-22  192.270004  192.820007  190.270004  190.899994  190.899994\n",
       "10952  2024-05-23  190.979996  191.000000  186.630005  186.880005  186.880005\n",
       "10953  2024-05-24  188.820007  190.580002  188.039993  189.979996  189.979996\n",
       "\n",
       "[10954 rows x 6 columns]>"
      ]
     },
     "execution_count": 23,
     "metadata": {},
     "output_type": "execute_result"
    }
   ],
   "source": [
    "# Dropping irrelevant columns\n",
    "tds=ds.copy()\n",
    "tds.info\n",
    "tds.drop('Volume', axis=1, inplace=True)\n",
    "tds.info"
   ]
  },
  {
   "cell_type": "markdown",
   "metadata": {},
   "source": [
    "### Data-Type int"
   ]
  },
  {
   "cell_type": "code",
   "execution_count": 24,
   "metadata": {},
   "outputs": [
    {
     "name": "stdout",
     "output_type": "stream",
     "text": [
      "10949    189.330002\n",
      "10950    191.089996\n",
      "10951    192.270004\n",
      "10952    190.979996\n",
      "10953    188.820007\n",
      "Name: Open, dtype: float64\n",
      "10949    189\n",
      "10950    191\n",
      "10951    192\n",
      "10952    190\n",
      "10953    188\n",
      "Name: Open, dtype: int32\n"
     ]
    }
   ],
   "source": [
    "print(tds[\"Open\"].tail(5))\n",
    "tds['Open'] = tds['Open'].astype(int)\n",
    "print(tds[\"Open\"].tail(5))"
   ]
  },
  {
   "cell_type": "code",
   "execution_count": null,
   "metadata": {},
   "outputs": [],
   "source": []
  }
 ],
 "metadata": {
  "kernelspec": {
   "display_name": "base",
   "language": "python",
   "name": "python3"
  },
  "language_info": {
   "codemirror_mode": {
    "name": "ipython",
    "version": 3
   },
   "file_extension": ".py",
   "mimetype": "text/x-python",
   "name": "python",
   "nbconvert_exporter": "python",
   "pygments_lexer": "ipython3",
   "version": "3.11.5"
  }
 },
 "nbformat": 4,
 "nbformat_minor": 2
}
