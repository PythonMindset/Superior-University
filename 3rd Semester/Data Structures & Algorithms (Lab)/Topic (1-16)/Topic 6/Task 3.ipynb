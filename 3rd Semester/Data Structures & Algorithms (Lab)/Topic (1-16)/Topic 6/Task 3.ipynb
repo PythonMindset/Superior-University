{
 "cells": [
  {
   "cell_type": "markdown",
   "metadata": {},
   "source": [
    "### Task 3"
   ]
  },
  {
   "cell_type": "code",
   "execution_count": 4,
   "metadata": {},
   "outputs": [
    {
     "name": "stdout",
     "output_type": "stream",
     "text": [
      "Is the BST balanced? True\n",
      "Is the unbalanced tree balanced? False\n"
     ]
    }
   ],
   "source": [
    "def is_balanced(root):\n",
    "    def check_height(node):\n",
    "        if node is None:\n",
    "            return 0, True\n",
    "        \n",
    "        left_height, left_balanced = check_height(node.left)\n",
    "        right_height, right_balanced = check_height(node.right)\n",
    "        \n",
    "        balanced = left_balanced and right_balanced and abs(left_height - right_height) <= 1\n",
    "        height = max(left_height, right_height) + 1\n",
    "        \n",
    "        return height, balanced\n",
    "    \n",
    "    _, balanced = check_height(root)\n",
    "    return balanced\n",
    "\n",
    "print(\"Is the BST balanced?\", is_balanced(bst.root))\n",
    "\n",
    "unbalanced_tree = Node(1)\n",
    "unbalanced_tree.left = Node(2)\n",
    "unbalanced_tree.left.left = Node(3)\n",
    "\n",
    "print(\"Is the unbalanced tree balanced?\", is_balanced(unbalanced_tree))"
   ]
  }
 ],
 "metadata": {
  "kernelspec": {
   "display_name": "base",
   "language": "python",
   "name": "python3"
  },
  "language_info": {
   "codemirror_mode": {
    "name": "ipython",
    "version": 3
   },
   "file_extension": ".py",
   "mimetype": "text/x-python",
   "name": "python",
   "nbconvert_exporter": "python",
   "pygments_lexer": "ipython3",
   "version": "3.11.5"
  }
 },
 "nbformat": 4,
 "nbformat_minor": 2
}
