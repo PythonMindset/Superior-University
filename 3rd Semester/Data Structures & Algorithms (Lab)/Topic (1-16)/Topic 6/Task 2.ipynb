{
 "cells": [
  {
   "cell_type": "markdown",
   "metadata": {},
   "source": [
    "### Task 2"
   ]
  },
  {
   "cell_type": "code",
   "execution_count": 3,
   "metadata": {},
   "outputs": [
    {
     "name": "stdout",
     "output_type": "stream",
     "text": [
      "LCA (20,40)--> Output: 40\n",
      "LCA (20,80)--> Output: 60\n",
      "LCA (60,80)--> Output: 60\n",
      "LCA (30,70)--> Output: 60\n"
     ]
    }
   ],
   "source": [
    "def find_lca(root, n1, n2):\n",
    "    if root is None:\n",
    "        return None\n",
    "    \n",
    "    if n1 < root.value and n2 < root.value:\n",
    "        return find_lca(root.left, n1, n2)\n",
    "\n",
    "    if n1 > root.value and n2 > root.value:\n",
    "        return find_lca(root.right, n1, n2)\n",
    "\n",
    "    return root\n",
    "\n",
    "test_cases = [(20, 40), (20, 80), (60, 80), (30, 70)]\n",
    "for n1, n2 in test_cases:\n",
    "    lca = find_lca(bst.root, n1, n2)\n",
    "    print(f\"LCA ({n1},{n2})--> Output: {lca.value if lca else None}\")"
   ]
  }
 ],
 "metadata": {
  "kernelspec": {
   "display_name": "base",
   "language": "python",
   "name": "python3"
  },
  "language_info": {
   "codemirror_mode": {
    "name": "ipython",
    "version": 3
   },
   "file_extension": ".py",
   "mimetype": "text/x-python",
   "name": "python",
   "nbconvert_exporter": "python",
   "pygments_lexer": "ipython3",
   "version": "3.11.5"
  }
 },
 "nbformat": 4,
 "nbformat_minor": 2
}
