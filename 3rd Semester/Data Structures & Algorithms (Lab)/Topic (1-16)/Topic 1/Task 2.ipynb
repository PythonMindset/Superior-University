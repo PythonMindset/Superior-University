{
 "cells": [
  {
   "cell_type": "markdown",
   "metadata": {},
   "source": [
    "### Task 2"
   ]
  },
  {
   "cell_type": "code",
   "execution_count": 3,
   "metadata": {},
   "outputs": [
    {
     "name": "stdout",
     "output_type": "stream",
     "text": [
      "[0, 1, 1, 2, 3, 5, 8, 13, 21, 34, 55, 89, 144, 233, 377, 610, 987, 1597, 2584, 4181]\n",
      "Recursive Fibonacci Time:  0.0000000000 seconds.\n",
      "0 1 1 2 3 5 8 13 21 34 55 89 144 233 377 610 987 1597 2584 4181 \n",
      "Iterative Fibonacci Time:  0.0000000000 seconds.\n"
     ]
    }
   ],
   "source": [
    "def fibonacci_recursive(n):\n",
    "    if n <= 0:\n",
    "        return []\n",
    "    elif n == 1:\n",
    "        return [0]\n",
    "    elif n == 2:\n",
    "        return [0, 1]\n",
    "    \n",
    "    series = fibonacci_recursive(n - 1)\n",
    "    series.append(series[-1] + series[-2])\n",
    "    return series\n",
    "\n",
    "def fibonacci_iterative(n):\n",
    "    a, b = 0, 1\n",
    "    for i in range(n):\n",
    "        print(a,end=\" \")\n",
    "        a, b = b, a + b\n",
    "\n",
    "def comparison():\n",
    "    n = 20\n",
    "    start = time.time()\n",
    "    print(fibonacci_recursive(n))\n",
    "    end = time.time()\n",
    "    print(f\"Recursive Fibonacci Time: {end-start: .10f} seconds.\")\n",
    "\n",
    "    start = time.time()\n",
    "    fibonacci_iterative(n)\n",
    "    end = time.time()\n",
    "    print(f\"\\nIterative Fibonacci Time: {end-start: .10f} seconds.\")\n",
    "comparison()"
   ]
  }
 ],
 "metadata": {
  "kernelspec": {
   "display_name": "base",
   "language": "python",
   "name": "python3"
  },
  "language_info": {
   "codemirror_mode": {
    "name": "ipython",
    "version": 3
   },
   "file_extension": ".py",
   "mimetype": "text/x-python",
   "name": "python",
   "nbconvert_exporter": "python",
   "pygments_lexer": "ipython3",
   "version": "3.11.5"
  }
 },
 "nbformat": 4,
 "nbformat_minor": 2
}
