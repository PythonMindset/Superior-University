{
 "cells": [
  {
   "cell_type": "markdown",
   "metadata": {},
   "source": [
    "### Task 3"
   ]
  },
  {
   "cell_type": "code",
   "execution_count": 7,
   "metadata": {},
   "outputs": [
    {
     "name": "stdout",
     "output_type": "stream",
     "text": [
      "Original Matrix:\n",
      "[1, 2, 3]\n",
      "[4, 5, 6]\n",
      "[7, 8, 9]\n",
      "\n",
      "Matrix after 90-degree clockwise rotation:\n",
      "[7, 4, 1]\n",
      "[8, 5, 2]\n",
      "[9, 6, 3]\n",
      "\n"
     ]
    }
   ],
   "source": [
    "def rotate_matrix(matrix):\n",
    "    n=len(matrix)\n",
    "    for i in range(n):\n",
    "        for j in range(i+1,n):\n",
    "            matrix[i][j],matrix[j][i]=matrix[j][i],matrix[i][j]\n",
    "    for i in range(n):\n",
    "        matrix[i].reverse()\n",
    "def print_matrix(matrix):\n",
    "    for row in matrix:\n",
    "        print(row)\n",
    "    print()\n",
    "matrix = [\n",
    "    [1, 2, 3],\n",
    "    [4, 5, 6],\n",
    "    [7, 8, 9]\n",
    "]\n",
    "print(\"Original Matrix:\")\n",
    "print_matrix(matrix)\n",
    "rotate_matrix(matrix)\n",
    "print(\"Matrix after 90-degree clockwise rotation:\")\n",
    "print_matrix(matrix)"
   ]
  }
 ],
 "metadata": {
  "kernelspec": {
   "display_name": "base",
   "language": "python",
   "name": "python3"
  },
  "language_info": {
   "codemirror_mode": {
    "name": "ipython",
    "version": 3
   },
   "file_extension": ".py",
   "mimetype": "text/x-python",
   "name": "python",
   "nbconvert_exporter": "python",
   "pygments_lexer": "ipython3",
   "version": "3.11.5"
  }
 },
 "nbformat": 4,
 "nbformat_minor": 2
}
