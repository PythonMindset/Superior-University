{
 "cells": [
  {
   "cell_type": "markdown",
   "metadata": {},
   "source": [
    "### Task 1"
   ]
  },
  {
   "cell_type": "code",
   "execution_count": null,
   "metadata": {},
   "outputs": [
    {
     "name": "stdout",
     "output_type": "stream",
     "text": [
      "Array created successfully.\n",
      "[None, None, None, None, None, None, None, None, None, '8']\n",
      "End index already occupied.\n",
      "Element deleted successfully.\n",
      "[None, None, None, None, None, None, None, None, None, '8']\n",
      "The element 8 is found at: 9\n",
      "Array resized successfully.\n",
      "[None, None, None, None, None, None, None, None, None, '8', None, None]\n"
     ]
    }
   ],
   "source": [
    "class customer_dynamic_array:\n",
    "    def __init__(self,size):\n",
    "        self.size=size\n",
    "        self.array=[]\n",
    "        for i in range(size):\n",
    "            self.array.append(None)\n",
    "        print(\"Array created successfully.\")\n",
    "    \n",
    "    def insert_at_end(self):\n",
    "        if self.array[-1]!=None:\n",
    "            print(\"End index already occupied.\")\n",
    "        else:\n",
    "            element=input(\"Enter the element: \")\n",
    "            self.array[-1]=element\n",
    "            print(self.array)\n",
    "    \n",
    "    def insert_at_index(self):\n",
    "        index=int(input(\"Enter the index you want to add an element: \"))\n",
    "        if index>=self.size:\n",
    "            print(\"Index out of range.\")\n",
    "        elif index is not None: \n",
    "            print(\"End index already occupied.\")\n",
    "        elif index is None: \n",
    "            self.array[index]=input(\"Enter the element: \")\n",
    "            print(self.array)\n",
    "    \n",
    "    def delete_at_index(self):\n",
    "        index=int(input(\"Enter the index on which you want to delete element: \"))\n",
    "        if index>=self.size:\n",
    "            print(\"Index out of range.\")\n",
    "        elif index is None:\n",
    "            print(\"End index already empty.\")\n",
    "        elif index is not None:\n",
    "            self.array[index]=None\n",
    "            print(\"Element deleted successfully.\")\n",
    "            print(self.array)\n",
    "\n",
    "    def search(self):\n",
    "        element=input(\"Enter the element to search: \")\n",
    "        if element in self.array:\n",
    "            print(f\"The element {element} is found at: {self.array.index(element)}\")\n",
    "        else:\n",
    "            print(\"-1\")\n",
    "    \n",
    "    def resize(self):\n",
    "        new_size=int(input(\"Enter the new size of the array: \"))\n",
    "        if new_size<self.size:\n",
    "            print(\"New size needs to be greater than old size\")\n",
    "        else: \n",
    "            for i in range(new_size-self.size):\n",
    "                self.array.append(None)\n",
    "            print(\"Array resized successfully.\")\n",
    "            print(self.array)\n",
    "\n",
    "size=int(input(\"Enter the size of the array: \"))    \n",
    "obj1=customer_dynamic_array(size)\n",
    "obj1.insert_at_end()\n",
    "obj1.insert_at_index()\n",
    "obj1.delete_at_index()\n",
    "obj1.search()\n",
    "obj1.resize()"
   ]
  }
 ],
 "metadata": {
  "kernelspec": {
   "display_name": "base",
   "language": "python",
   "name": "python3"
  },
  "language_info": {
   "codemirror_mode": {
    "name": "ipython",
    "version": 3
   },
   "file_extension": ".py",
   "mimetype": "text/x-python",
   "name": "python",
   "nbconvert_exporter": "python",
   "pygments_lexer": "ipython3",
   "version": "3.11.5"
  }
 },
 "nbformat": 4,
 "nbformat_minor": 2
}
