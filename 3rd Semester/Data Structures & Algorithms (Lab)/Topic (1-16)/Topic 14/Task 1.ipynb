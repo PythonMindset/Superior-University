{
 "cells": [
  {
   "cell_type": "markdown",
   "metadata": {},
   "source": [
    "### Task 1"
   ]
  },
  {
   "cell_type": "code",
   "execution_count": 1,
   "metadata": {},
   "outputs": [
    {
     "name": "stdout",
     "output_type": "stream",
     "text": [
      "Fibonacci using Memoization: 55\n",
      "Fibonacci using Tabulation: 55\n",
      "Memoization Time: 0.0\n",
      "Tabulation Time: 0.0\n"
     ]
    }
   ],
   "source": [
    "import time\n",
    "\n",
    "def fib_memoization(n, memo={}):\n",
    "    if n in memo:\n",
    "        return memo[n]\n",
    "    if n <= 1:\n",
    "        return n\n",
    "    memo[n] = fib_memoization(n - 1, memo) + fib_memoization(n - 2, memo)\n",
    "    return memo[n]\n",
    "\n",
    "def fib_tabulation(n):\n",
    "    if n <= 1:\n",
    "        return n\n",
    "    dp = [0] * (n + 1)\n",
    "    dp[1] = 1\n",
    "    for i in range(2, n + 1):\n",
    "        dp[i] = dp[i - 1] + dp[i - 2]\n",
    "    return dp[n]\n",
    "\n",
    "if __name__ == \"__main__\":\n",
    "    n = 10\n",
    "    print(\"Fibonacci using Memoization:\", fib_memoization(n))\n",
    "    print(\"Fibonacci using Tabulation:\", fib_tabulation(n))\n",
    "\n",
    "    start_time = time.time()\n",
    "    fib_memoization(n)\n",
    "    print(\"Memoization Time:\", time.time() - start_time)\n",
    "\n",
    "    start_time = time.time()\n",
    "    fib_tabulation(n)\n",
    "    print(\"Tabulation Time:\", time.time() - start_time)\n"
   ]
  }
 ],
 "metadata": {
  "kernelspec": {
   "display_name": "base",
   "language": "python",
   "name": "python3"
  },
  "language_info": {
   "codemirror_mode": {
    "name": "ipython",
    "version": 3
   },
   "file_extension": ".py",
   "mimetype": "text/x-python",
   "name": "python",
   "nbconvert_exporter": "python",
   "pygments_lexer": "ipython3",
   "version": "3.11.5"
  }
 },
 "nbformat": 4,
 "nbformat_minor": 2
}
