{
 "cells": [
  {
   "cell_type": "markdown",
   "metadata": {},
   "source": [
    "### Task 2"
   ]
  },
  {
   "cell_type": "code",
   "execution_count": 2,
   "metadata": {},
   "outputs": [
    {
     "name": "stdout",
     "output_type": "stream",
     "text": [
      "LCS (Recursive + Memoization): GTAB\n",
      "LCS (Tabulation): GTAB\n"
     ]
    }
   ],
   "source": [
    "def lcs_recursive_memoization(X, Y):\n",
    "    memo = {}\n",
    "\n",
    "    def helper(i, j):\n",
    "        if i == 0 or j == 0:\n",
    "            return \"\"\n",
    "        if (i, j) in memo:\n",
    "            return memo[(i, j)]\n",
    "        if X[i - 1] == Y[j - 1]:\n",
    "            memo[(i, j)] = helper(i - 1, j - 1) + X[i - 1]\n",
    "        else:\n",
    "            left = helper(i - 1, j)\n",
    "            right = helper(i, j - 1)\n",
    "            memo[(i, j)] = left if len(left) > len(right) else right\n",
    "        return memo[(i, j)]\n",
    "\n",
    "    return helper(len(X), len(Y))\n",
    "\n",
    "\n",
    "def lcs_tabulation(X, Y):\n",
    "    m, n = len(X), len(Y)\n",
    "    dp = [[\"\" for _ in range(n + 1)] for _ in range(m + 1)]\n",
    "\n",
    "    for i in range(1, m + 1):\n",
    "        for j in range(1, n + 1):\n",
    "            if X[i - 1] == Y[j - 1]:\n",
    "                dp[i][j] = dp[i - 1][j - 1] + X[i - 1]\n",
    "            else:\n",
    "                dp[i][j] = dp[i - 1][j] if len(dp[i - 1][j]) > len(dp[i][j - 1]) else dp[i][j - 1]\n",
    "\n",
    "    return dp[m][n]\n",
    "\n",
    "\n",
    "if __name__ == \"__main__\":\n",
    "    X = \"AGGTAB\"\n",
    "    Y = \"GXTXAYB\"\n",
    "\n",
    "    print(\"LCS (Recursive + Memoization):\", lcs_recursive_memoization(X, Y))\n",
    "    print(\"LCS (Tabulation):\", lcs_tabulation(X, Y))\n"
   ]
  }
 ],
 "metadata": {
  "kernelspec": {
   "display_name": "base",
   "language": "python",
   "name": "python3"
  },
  "language_info": {
   "codemirror_mode": {
    "name": "ipython",
    "version": 3
   },
   "file_extension": ".py",
   "mimetype": "text/x-python",
   "name": "python",
   "nbconvert_exporter": "python",
   "pygments_lexer": "ipython3",
   "version": "3.11.5"
  }
 },
 "nbformat": 4,
 "nbformat_minor": 2
}
