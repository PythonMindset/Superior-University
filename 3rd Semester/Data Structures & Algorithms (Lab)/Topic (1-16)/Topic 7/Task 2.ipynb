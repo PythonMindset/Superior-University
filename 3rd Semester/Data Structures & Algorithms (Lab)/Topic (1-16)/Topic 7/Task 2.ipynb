{
 "cells": [
  {
   "cell_type": "markdown",
   "metadata": {},
   "source": [
    "### Task 2"
   ]
  },
  {
   "cell_type": "code",
   "execution_count": 2,
   "metadata": {},
   "outputs": [
    {
     "name": "stdout",
     "output_type": "stream",
     "text": [
      "Task B\n",
      "Task C\n",
      "Task D\n"
     ]
    }
   ],
   "source": [
    "class PriorityQueue:\n",
    "    def __init__(self):\n",
    "        self.heap = []\n",
    "\n",
    "    def enqueue(self, value, priority):\n",
    "        heapq.heappush(self.heap, (priority, value))\n",
    "\n",
    "    def dequeue(self):\n",
    "        if not self.heap:\n",
    "            return None\n",
    "        return heapq.heappop(self.heap)[1]\n",
    "\n",
    "    def peek(self):\n",
    "        if not self.heap:\n",
    "            return None\n",
    "        return self.heap[0][1]\n",
    "\n",
    "pq = PriorityQueue()\n",
    "pq.enqueue(\"Task A\", 3)\n",
    "pq.enqueue(\"Task B\", 1)\n",
    "pq.enqueue(\"Task C\", 2)\n",
    "\n",
    "print(pq.dequeue())\n",
    "print(pq.peek())\n",
    "pq.enqueue(\"Task D\", 0)\n",
    "print(pq.dequeue())"
   ]
  }
 ],
 "metadata": {
  "kernelspec": {
   "display_name": "base",
   "language": "python",
   "name": "python3"
  },
  "language_info": {
   "codemirror_mode": {
    "name": "ipython",
    "version": 3
   },
   "file_extension": ".py",
   "mimetype": "text/x-python",
   "name": "python",
   "nbconvert_exporter": "python",
   "pygments_lexer": "ipython3",
   "version": "3.11.5"
  }
 },
 "nbformat": 4,
 "nbformat_minor": 2
}
