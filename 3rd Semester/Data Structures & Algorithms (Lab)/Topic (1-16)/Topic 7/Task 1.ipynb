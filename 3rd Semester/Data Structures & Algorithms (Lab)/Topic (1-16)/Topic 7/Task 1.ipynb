{
 "cells": [
  {
   "cell_type": "markdown",
   "metadata": {},
   "source": [
    "### Task 1"
   ]
  },
  {
   "cell_type": "code",
   "execution_count": 1,
   "metadata": {},
   "outputs": [
    {
     "name": "stdout",
     "output_type": "stream",
     "text": [
      "2\n",
      "20\n"
     ]
    }
   ],
   "source": [
    "import heapq\n",
    "\n",
    "class Heap:\n",
    "    def __init__(self, heap_type=\"min\"):\n",
    "        self.heap = []\n",
    "        self.heap_type = heap_type\n",
    "\n",
    "    def insert(self, value):\n",
    "        if self.heap_type == \"min\":\n",
    "            heapq.heappush(self.heap, value)\n",
    "        elif self.heap_type == \"max\":\n",
    "            heapq.heappush(self.heap, -value)\n",
    "\n",
    "    def extract_root(self):\n",
    "        if not self.heap:\n",
    "            return None\n",
    "        if self.heap_type == \"min\":\n",
    "            return heapq.heappop(self.heap)\n",
    "        elif self.heap_type == \"max\":\n",
    "            return -heapq.heappop(self.heap)\n",
    "\n",
    "    def peek(self):\n",
    "        if not self.heap:\n",
    "            return None\n",
    "        if self.heap_type == \"min\":\n",
    "            return self.heap[0]\n",
    "        elif self.heap_type == \"max\":\n",
    "            return -self.heap[0]\n",
    "\n",
    "    def heapify(self, array):\n",
    "        if self.heap_type == \"min\":\n",
    "            self.heap = array[:]\n",
    "            heapq.heapify(self.heap)\n",
    "        elif self.heap_type == \"max\":\n",
    "            self.heap = [-x for x in array]\n",
    "            heapq.heapify(self.heap)\n",
    "\n",
    "min_heap = Heap(\"min\")\n",
    "min_heap.insert(10)\n",
    "min_heap.insert(5)\n",
    "min_heap.insert(20)\n",
    "min_heap.insert(2)\n",
    "print(min_heap.extract_root())\n",
    "\n",
    "max_heap = Heap(\"max\")\n",
    "max_heap.insert(10)\n",
    "max_heap.insert(5)\n",
    "max_heap.insert(20)\n",
    "max_heap.insert(2)\n",
    "print(max_heap.extract_root())"
   ]
  }
 ],
 "metadata": {
  "kernelspec": {
   "display_name": "base",
   "language": "python",
   "name": "python3"
  },
  "language_info": {
   "codemirror_mode": {
    "name": "ipython",
    "version": 3
   },
   "file_extension": ".py",
   "mimetype": "text/x-python",
   "name": "python",
   "nbconvert_exporter": "python",
   "pygments_lexer": "ipython3",
   "version": "3.11.5"
  }
 },
 "nbformat": 4,
 "nbformat_minor": 2
}
