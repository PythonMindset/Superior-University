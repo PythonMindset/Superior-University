{
 "cells": [
  {
   "cell_type": "markdown",
   "metadata": {},
   "source": [
    "### Task 3"
   ]
  },
  {
   "cell_type": "code",
   "execution_count": 3,
   "metadata": {},
   "outputs": [
    {
     "name": "stdout",
     "output_type": "stream",
     "text": [
      "K Smallest Elements: [3, 4, 7]\n",
      "K Largest Elements: [20, 15]\n",
      "Heap-based approach time: 0.000000 seconds\n",
      "Sorting-based approach time: 0.000000 seconds\n"
     ]
    }
   ],
   "source": [
    "import time\n",
    "\n",
    "def find_k_smallest(arr, k):\n",
    "    min_heap = Heap(\"min\")\n",
    "    min_heap.heapify(arr)\n",
    "    return [min_heap.extract_root() for _ in range(k)]\n",
    "\n",
    "def find_k_largest(arr, k):\n",
    "    max_heap = Heap(\"max\")\n",
    "    max_heap.heapify(arr)\n",
    "    return [max_heap.extract_root() for _ in range(k)]\n",
    "\n",
    "arr = [10, 4, 3, 20, 15, 7]\n",
    "print(\"K Smallest Elements:\", find_k_smallest(arr, 3))\n",
    "print(\"K Largest Elements:\", find_k_largest(arr, 2))\n",
    "\n",
    "def compare_efficiency(arr, k):\n",
    "    start_heap = time.time()\n",
    "    find_k_smallest(arr, k)\n",
    "    find_k_largest(arr, k)\n",
    "    end_heap = time.time()\n",
    "\n",
    "    start_sort = time.time()\n",
    "    sorted_arr = sorted(arr)\n",
    "    k_smallest = sorted_arr[:k]\n",
    "    k_largest = sorted_arr[-k:][::-1]\n",
    "    end_sort = time.time()\n",
    "\n",
    "    print(f\"Heap-based approach time: {end_heap - start_heap:.6f} seconds\")\n",
    "    print(f\"Sorting-based approach time: {end_sort - start_sort:.6f} seconds\")\n",
    "\n",
    "compare_efficiency(arr, 3)"
   ]
  }
 ],
 "metadata": {
  "kernelspec": {
   "display_name": "base",
   "language": "python",
   "name": "python3"
  },
  "language_info": {
   "codemirror_mode": {
    "name": "ipython",
    "version": 3
   },
   "file_extension": ".py",
   "mimetype": "text/x-python",
   "name": "python",
   "nbconvert_exporter": "python",
   "pygments_lexer": "ipython3",
   "version": "3.11.5"
  }
 },
 "nbformat": 4,
 "nbformat_minor": 2
}
