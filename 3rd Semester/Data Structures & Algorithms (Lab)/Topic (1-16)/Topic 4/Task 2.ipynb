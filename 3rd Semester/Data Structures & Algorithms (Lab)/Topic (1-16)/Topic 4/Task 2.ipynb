{
 "cells": [
  {
   "cell_type": "markdown",
   "metadata": {},
   "source": [
    "### Task 2"
   ]
  },
  {
   "cell_type": "code",
   "execution_count": null,
   "metadata": {},
   "outputs": [
    {
     "name": "stdout",
     "output_type": "stream",
     "text": [
      "The result of the postfix expression '512+4*+3-' is: -14\n"
     ]
    }
   ],
   "source": [
    "class postfix:\n",
    "    def __init__(self):\n",
    "        self.stack=[]\n",
    "\n",
    "    def process(self, statement):\n",
    "        for i in statement:\n",
    "            if i.isdigit():\n",
    "                self.stack.append(int(i))\n",
    "            else:\n",
    "                a1=self.stack.pop()\n",
    "                a2=self.stack.pop()\n",
    "                if i==\"+\":\n",
    "                    self.stack.append(a1+a2)\n",
    "                elif i==\"-\":\n",
    "                    self.stack.append(a1-a2)\n",
    "                elif i==\"*\":\n",
    "                    self.stack.append(a1*a2)\n",
    "                elif i==\"/\":\n",
    "                    self.stack.append(a1/a2)\n",
    "                else:\n",
    "                    print(\"Invalid operator. Ending....\")\n",
    "                    break\n",
    "        return self.stack.pop()\n",
    "statement = input(\"Enter a statement: \")\n",
    "obj1 = postfix()\n",
    "ans = obj1.process(statement)\n",
    "print(f\"The result of the postfix expression \\'{statement}\\' is: {ans}\")"
   ]
  }
 ],
 "metadata": {
  "kernelspec": {
   "display_name": "Python 3",
   "language": "python",
   "name": "python3"
  },
  "language_info": {
   "codemirror_mode": {
    "name": "ipython",
    "version": 3
   },
   "file_extension": ".py",
   "mimetype": "text/x-python",
   "name": "python",
   "nbconvert_exporter": "python",
   "pygments_lexer": "ipython3",
   "version": "3.12.0"
  }
 },
 "nbformat": 4,
 "nbformat_minor": 2
}
