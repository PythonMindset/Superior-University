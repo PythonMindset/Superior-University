{
 "cells": [
  {
   "cell_type": "markdown",
   "metadata": {},
   "source": [
    "### Task 1"
   ]
  },
  {
   "cell_type": "code",
   "execution_count": 1,
   "metadata": {},
   "outputs": [
    {
     "name": "stdout",
     "output_type": "stream",
     "text": [
      "Solution 1:\n",
      ".Q..\n",
      "...Q\n",
      "Q...\n",
      "..Q.\n",
      "\n",
      "Solution 2:\n",
      "..Q.\n",
      "Q...\n",
      "...Q\n",
      ".Q..\n",
      "\n"
     ]
    }
   ],
   "source": [
    "def solve_n_queens(n):\n",
    "    def is_safe(row, col, diagonals, anti_diagonals, cols):\n",
    "        return col not in cols and (row - col) not in diagonals and (row + col) not in anti_diagonals\n",
    "\n",
    "    def backtrack(row, diagonals, anti_diagonals, cols, board, solutions):\n",
    "        if row == n:\n",
    "            solutions.append([\"\".join(row) for row in board])\n",
    "            return\n",
    "        \n",
    "        for col in range(n):\n",
    "            if is_safe(row, col, diagonals, anti_diagonals, cols):\n",
    "                board[row][col] = 'Q'\n",
    "                cols.add(col)\n",
    "                diagonals.add(row - col)\n",
    "                anti_diagonals.add(row + col)\n",
    "                \n",
    "                backtrack(row + 1, diagonals, anti_diagonals, cols, board, solutions)\n",
    "                \n",
    "                board[row][col] = '.'\n",
    "                cols.remove(col)\n",
    "                diagonals.remove(row - col)\n",
    "                anti_diagonals.remove(row + col)\n",
    "\n",
    "    solutions = []\n",
    "    empty_board = [[\".\"] * n for _ in range(n)]\n",
    "    backtrack(0, set(), set(), set(), empty_board, solutions)\n",
    "    return solutions\n",
    "\n",
    "n = 4\n",
    "solutions = solve_n_queens(n)\n",
    "for i, solution in enumerate(solutions, 1):\n",
    "    print(f\"Solution {i}:\")\n",
    "    for row in solution:\n",
    "        print(row)\n",
    "    print()\n"
   ]
  }
 ],
 "metadata": {
  "kernelspec": {
   "display_name": "base",
   "language": "python",
   "name": "python3"
  },
  "language_info": {
   "codemirror_mode": {
    "name": "ipython",
    "version": 3
   },
   "file_extension": ".py",
   "mimetype": "text/x-python",
   "name": "python",
   "nbconvert_exporter": "python",
   "pygments_lexer": "ipython3",
   "version": "3.11.5"
  }
 },
 "nbformat": 4,
 "nbformat_minor": 2
}
