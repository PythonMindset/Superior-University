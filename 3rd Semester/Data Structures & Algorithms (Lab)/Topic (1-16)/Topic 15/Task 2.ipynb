{
 "cells": [
  {
   "cell_type": "markdown",
   "metadata": {},
   "source": [
    "### Task 2"
   ]
  },
  {
   "cell_type": "code",
   "execution_count": 2,
   "metadata": {},
   "outputs": [
    {
     "name": "stdout",
     "output_type": "stream",
     "text": [
      "['ABC', 'ACB', 'BAC', 'BCA', 'CBA', 'CAB']\n"
     ]
    }
   ],
   "source": [
    "def permute(string):\n",
    "    def backtrack(start):\n",
    "        if start == len(chars):\n",
    "            result.append(''.join(chars))\n",
    "            return\n",
    "        seen = set()\n",
    "        for i in range(start, len(chars)):\n",
    "            if chars[i] in seen:\n",
    "                continue\n",
    "            seen.add(chars[i])\n",
    "            chars[start], chars[i] = chars[i], chars[start]\n",
    "            backtrack(start + 1)\n",
    "            chars[start], chars[i] = chars[i], chars[start]\n",
    "\n",
    "    chars = list(string)\n",
    "    result = []\n",
    "    backtrack(0)\n",
    "    return result\n",
    "\n",
    "# Example usage\n",
    "print(permute(\"ABC\"))  # Expected Output: ['ABC', 'ACB', 'BAC', 'BCA', 'CAB', 'CBA']\n"
   ]
  }
 ],
 "metadata": {
  "kernelspec": {
   "display_name": "base",
   "language": "python",
   "name": "python3"
  },
  "language_info": {
   "codemirror_mode": {
    "name": "ipython",
    "version": 3
   },
   "file_extension": ".py",
   "mimetype": "text/x-python",
   "name": "python",
   "nbconvert_exporter": "python",
   "pygments_lexer": "ipython3",
   "version": "3.11.5"
  }
 },
 "nbformat": 4,
 "nbformat_minor": 2
}
