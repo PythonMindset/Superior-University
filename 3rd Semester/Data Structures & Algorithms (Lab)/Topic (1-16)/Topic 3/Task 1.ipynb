{
 "cells": [
  {
   "cell_type": "markdown",
   "metadata": {},
   "source": [
    "### Task 1"
   ]
  },
  {
   "cell_type": "code",
   "execution_count": 22,
   "metadata": {},
   "outputs": [
    {
     "name": "stdout",
     "output_type": "stream",
     "text": [
      "30\n",
      "50\n",
      "20\n",
      "10\n"
     ]
    }
   ],
   "source": [
    "class Node:\n",
    "    def __init__(self,data):\n",
    "        self.data=data\n",
    "        self.ref=None\n",
    "\n",
    "class Linked_list:\n",
    "    def __init__(self):\n",
    "        self.head=None\n",
    "\n",
    "    def add_start(self,data):\n",
    "        new_node=Node(data)\n",
    "        new_node.ref=self.head\n",
    "        self.head=new_node\n",
    "\n",
    "    def add_last(self,data):\n",
    "        new_node=Node(data)\n",
    "        if self.head is None:\n",
    "            self.head=new_node\n",
    "        else:\n",
    "            n=self.head\n",
    "            while n.ref!=None:\n",
    "                n=n.ref\n",
    "            n.ref=new_node\n",
    "\n",
    "    def insert_at_specific_position(self,data,position):\n",
    "        if position<1:\n",
    "            print(\"Invalid position!\")\n",
    "            return\n",
    "        new_node=Node(data)\n",
    "        if position==1:\n",
    "            new_node.ref=self.head\n",
    "            self.head=new_node\n",
    "            return\n",
    "        n=self.head\n",
    "        for i in range(position-2):\n",
    "            if n is None:\n",
    "                print(\"Position out of bounds\")\n",
    "                return\n",
    "            n=n.ref\n",
    "        new_node.ref=n.ref\n",
    "        n.ref=new_node\n",
    "    \n",
    "    def delete_by_value(self,value):\n",
    "        if self.head is None:\n",
    "            print(\"List is empty\")\n",
    "            return\n",
    "        if self.head.data==value:\n",
    "            self.head=self.head.ref\n",
    "            return\n",
    "        n=self.head\n",
    "        while n.ref is not None:\n",
    "            if n.ref.data==value:\n",
    "                n.ref=n.ref.ref\n",
    "                return\n",
    "            n=n.ref\n",
    "        print(\"Value not found in the list\")\n",
    "    \n",
    "    def search_by_value(self,value):\n",
    "        n=self.head\n",
    "        position=1\n",
    "        while n is not None:\n",
    "            if n.data==value:\n",
    "                return position\n",
    "            n=n.ref\n",
    "            position+=1\n",
    "        return -1\n",
    "    \n",
    "    def display(self):\n",
    "        if self.head is None:\n",
    "            print(\"Linked List is empty\")\n",
    "        else:\n",
    "            n=self.head\n",
    "            while n!=None:\n",
    "                print(n.data)\n",
    "                n=n.ref\n",
    "\n",
    "obj1=Linked_list()\n",
    "obj1.add_start(10)\n",
    "obj1.add_start(20)\n",
    "obj1.add_start(30)\n",
    "obj1.add_last(40)\n",
    "obj1.insert_at_specific_position(50,2)\n",
    "obj1.delete_by_value(40)\n",
    "obj1.search_by_value(20)\n",
    "obj1.display()"
   ]
  }
 ],
 "metadata": {
  "kernelspec": {
   "display_name": "Python 3",
   "language": "python",
   "name": "python3"
  },
  "language_info": {
   "codemirror_mode": {
    "name": "ipython",
    "version": 3
   },
   "file_extension": ".py",
   "mimetype": "text/x-python",
   "name": "python",
   "nbconvert_exporter": "python",
   "pygments_lexer": "ipython3",
   "version": "3.12.0"
  }
 },
 "nbformat": 4,
 "nbformat_minor": 2
}
