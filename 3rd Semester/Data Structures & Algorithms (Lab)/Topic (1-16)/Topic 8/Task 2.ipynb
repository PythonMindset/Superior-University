{
 "cells": [
  {
   "cell_type": "markdown",
   "metadata": {},
   "source": [
    "### Task 2"
   ]
  },
  {
   "cell_type": "code",
   "execution_count": 4,
   "metadata": {},
   "outputs": [
    {
     "name": "stdout",
     "output_type": "stream",
     "text": [
      "BFS Traversal: [0, 1, 2, 3, 4, 5]\n",
      "DFS Traversal: [0, 1, 3, 4, 2, 5]\n"
     ]
    }
   ],
   "source": [
    "from collections import deque\n",
    "\n",
    "class Graph:\n",
    "    def __init__(self, num_vertices, directed=False):\n",
    "        self.num_vertices = num_vertices\n",
    "        self.directed = directed\n",
    "        self.adj_list = {i: [] for i in range(num_vertices)}\n",
    "        self.adj_matrix = [[0] * num_vertices for _ in range(num_vertices)]\n",
    "\n",
    "    def add_edge(self, v1, v2):\n",
    "        self.adj_list[v1].append(v2)\n",
    "        if not self.directed:\n",
    "            self.adj_list[v2].append(v1)\n",
    "        self.adj_matrix[v1][v2] = 1\n",
    "        if not self.directed:\n",
    "            self.adj_matrix[v2][v1] = 1\n",
    "\n",
    "    def remove_edge(self, v1, v2):\n",
    "        if v2 in self.adj_list[v1]:\n",
    "            self.adj_list[v1].remove(v2)\n",
    "        if not self.directed and v1 in self.adj_list[v2]:\n",
    "            self.adj_list[v2].remove(v1)\n",
    "        self.adj_matrix[v1][v2] = 0\n",
    "        if not self.directed:\n",
    "            self.adj_matrix[v2][v1] = 0\n",
    "\n",
    "    def display(self):\n",
    "        print(\"Adjacency List:\")\n",
    "        for vertex, edges in self.adj_list.items():\n",
    "            print(f\"{vertex}: {edges}\")\n",
    "        print(\"\\nAdjacency Matrix:\")\n",
    "        for row in self.adj_matrix:\n",
    "            print(row)\n",
    "\n",
    "    def bfs(self, start_vertex):\n",
    "        visited = [False] * self.num_vertices\n",
    "        queue = deque([start_vertex])\n",
    "        visited[start_vertex] = True\n",
    "        traversal_order = []\n",
    "\n",
    "        while queue:\n",
    "            vertex = queue.popleft()\n",
    "            traversal_order.append(vertex)\n",
    "\n",
    "            for neighbor in self.adj_list[vertex]:\n",
    "                if not visited[neighbor]:\n",
    "                    queue.append(neighbor)\n",
    "                    visited[neighbor] = True\n",
    "\n",
    "        return traversal_order\n",
    "\n",
    "    def dfs(self, start_vertex):\n",
    "        visited = [False] * self.num_vertices\n",
    "        traversal_order = []\n",
    "\n",
    "        def dfs_recursive(vertex):\n",
    "            visited[vertex] = True\n",
    "            traversal_order.append(vertex)\n",
    "\n",
    "            for neighbor in self.adj_list[vertex]:\n",
    "                if not visited[neighbor]:\n",
    "                    dfs_recursive(neighbor)\n",
    "\n",
    "        dfs_recursive(start_vertex)\n",
    "        return traversal_order\n",
    "\n",
    "g = Graph(6)\n",
    "g.add_edge(0, 1)\n",
    "g.add_edge(0, 2)\n",
    "g.add_edge(1, 3)\n",
    "g.add_edge(1, 4)\n",
    "g.add_edge(2, 5)\n",
    "\n",
    "print(\"BFS Traversal:\", g.bfs(0))\n",
    "print(\"DFS Traversal:\", g.dfs(0))"
   ]
  }
 ],
 "metadata": {
  "kernelspec": {
   "display_name": "base",
   "language": "python",
   "name": "python3"
  },
  "language_info": {
   "codemirror_mode": {
    "name": "ipython",
    "version": 3
   },
   "file_extension": ".py",
   "mimetype": "text/x-python",
   "name": "python",
   "nbconvert_exporter": "python",
   "pygments_lexer": "ipython3",
   "version": "3.11.5"
  }
 },
 "nbformat": 4,
 "nbformat_minor": 2
}
