{
 "cells": [
  {
   "cell_type": "markdown",
   "metadata": {},
   "source": [
    "### Task 2"
   ]
  },
  {
   "cell_type": "code",
   "execution_count": 2,
   "metadata": {},
   "outputs": [
    {
     "name": "stdout",
     "output_type": "stream",
     "text": [
      "Quick Sort Result: [3, 9, 10, 27, 38, 43, 82]\n",
      "Merge Sort Result: [3, 9, 10, 27, 38, 43, 82]\n",
      "\n",
      "Performance Comparison:\n",
      "Array Size: 1000\n",
      "Quick Sort Time: 0.003819 seconds\n",
      "Merge Sort Time: 0.017952 seconds\n",
      "\n",
      "Array Size: 5000\n",
      "Quick Sort Time: 0.038746 seconds\n",
      "Merge Sort Time: 0.134640 seconds\n",
      "\n",
      "Array Size: 10000\n",
      "Quick Sort Time: 0.170546 seconds\n",
      "Merge Sort Time: 0.062830 seconds\n",
      "\n"
     ]
    }
   ],
   "source": [
    "import random\n",
    "import time\n",
    "\n",
    "# Quick Sort Implementation\n",
    "def quick_sort(arr):\n",
    "    if len(arr) <= 1:\n",
    "        return arr\n",
    "    pivot = arr[len(arr) // 2]\n",
    "    left = [x for x in arr if x < pivot]\n",
    "    middle = [x for x in arr if x == pivot]\n",
    "    right = [x for x in arr if x > pivot]\n",
    "    return quick_sort(left) + middle + quick_sort(right)\n",
    "\n",
    "# Merge Sort Implementation\n",
    "def merge_sort(arr):\n",
    "    if len(arr) <= 1:\n",
    "        return arr\n",
    "    mid = len(arr) // 2\n",
    "    left = merge_sort(arr[:mid])\n",
    "    right = merge_sort(arr[mid:])\n",
    "    return merge(left, right)\n",
    "\n",
    "def merge(left, right):\n",
    "    result = []\n",
    "    i = j = 0\n",
    "    while i < len(left) and j < len(right):\n",
    "        if left[i] < right[j]:\n",
    "            result.append(left[i])\n",
    "            i += 1\n",
    "        else:\n",
    "            result.append(right[j])\n",
    "            j += 1\n",
    "    result.extend(left[i:])\n",
    "    result.extend(right[j:])\n",
    "    return result\n",
    "\n",
    "# Performance Comparison\n",
    "def compare_sorting_algorithms():\n",
    "    sizes = [1000, 5000, 10000]\n",
    "    for size in sizes:\n",
    "        arr = [random.randint(0, 10000) for _ in range(size)]\n",
    "        \n",
    "        # Quick Sort Timing\n",
    "        start_time = time.time()\n",
    "        quick_sort(arr)\n",
    "        quick_sort_time = time.time() - start_time\n",
    "        \n",
    "        # Merge Sort Timing\n",
    "        start_time = time.time()\n",
    "        merge_sort(arr)\n",
    "        merge_sort_time = time.time() - start_time\n",
    "        \n",
    "        print(f\"Array Size: {size}\")\n",
    "        print(f\"Quick Sort Time: {quick_sort_time:.6f} seconds\")\n",
    "        print(f\"Merge Sort Time: {merge_sort_time:.6f} seconds\")\n",
    "        print()\n",
    "\n",
    "# Example Usage\n",
    "if __name__ == \"__main__\":\n",
    "    arr = [38, 27, 43, 3, 9, 82, 10]\n",
    "    print(\"Quick Sort Result:\", quick_sort(arr))\n",
    "    print(\"Merge Sort Result:\", merge_sort(arr))\n",
    "    print(\"\\nPerformance Comparison:\")\n",
    "    compare_sorting_algorithms()"
   ]
  }
 ],
 "metadata": {
  "kernelspec": {
   "display_name": "base",
   "language": "python",
   "name": "python3"
  },
  "language_info": {
   "codemirror_mode": {
    "name": "ipython",
    "version": 3
   },
   "file_extension": ".py",
   "mimetype": "text/x-python",
   "name": "python",
   "nbconvert_exporter": "python",
   "pygments_lexer": "ipython3",
   "version": "3.11.5"
  }
 },
 "nbformat": 4,
 "nbformat_minor": 2
}
