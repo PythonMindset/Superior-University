{
 "cells": [
  {
   "cell_type": "markdown",
   "metadata": {},
   "source": [
    "### Task 1"
   ]
  },
  {
   "cell_type": "code",
   "execution_count": 1,
   "metadata": {},
   "outputs": [
    {
     "name": "stdout",
     "output_type": "stream",
     "text": [
      "Activity Selection Problem\n",
      "Enter activities as pairs of start and end times (e.g., 1 3). Type 'done' to finish input.\n",
      "Invalid input. Please enter two integers separated by a space.\n",
      "Selected activities: [(1, 3), (3, 5)]\n"
     ]
    }
   ],
   "source": [
    "def activity_selection(activities):\n",
    "    \"\"\"\n",
    "    Function to select the maximum number of non-overlapping activities.\n",
    "    :param activities: List of tuples where each tuple represents (start_time, end_time)\n",
    "    :return: List of selected activities\n",
    "    \"\"\"\n",
    "    # Sort activities based on their end times\n",
    "    activities.sort(key=lambda x: x[1])\n",
    "\n",
    "    selected_activities = []\n",
    "    last_end_time = 0\n",
    "\n",
    "    # Iterate through the activities and select non-overlapping ones\n",
    "    for start, end in activities:\n",
    "        if start >= last_end_time:\n",
    "            selected_activities.append((start, end))\n",
    "            last_end_time = end\n",
    "\n",
    "    return selected_activities\n",
    "\n",
    "\n",
    "if __name__ == \"__main__\":\n",
    "    print(\"Activity Selection Problem\")\n",
    "    print(\"Enter activities as pairs of start and end times (e.g., 1 3). Type 'done' to finish input.\")\n",
    "\n",
    "    activities = []\n",
    "    while True:\n",
    "        user_input = input(\"Enter activity (start end): \").strip()\n",
    "        if user_input.lower() == \"done\":\n",
    "            break\n",
    "        try:\n",
    "            start, end = map(int, user_input.split())\n",
    "            if start < 0 or end < 0 or start >= end:\n",
    "                print(\"Invalid activity. Start time must be less than end time, and both must be non-negative.\")\n",
    "                continue\n",
    "            activities.append((start, end))\n",
    "        except ValueError:\n",
    "            print(\"Invalid input. Please enter two integers separated by a space.\")\n",
    "\n",
    "    if not activities:\n",
    "        print(\"No activities provided. Exiting.\")\n",
    "    else:\n",
    "        selected = activity_selection(activities)\n",
    "        print(\"Selected activities:\", selected)\n"
   ]
  }
 ],
 "metadata": {
  "kernelspec": {
   "display_name": "base",
   "language": "python",
   "name": "python3"
  },
  "language_info": {
   "codemirror_mode": {
    "name": "ipython",
    "version": 3
   },
   "file_extension": ".py",
   "mimetype": "text/x-python",
   "name": "python",
   "nbconvert_exporter": "python",
   "pygments_lexer": "ipython3",
   "version": "3.11.5"
  }
 },
 "nbformat": 4,
 "nbformat_minor": 2
}
