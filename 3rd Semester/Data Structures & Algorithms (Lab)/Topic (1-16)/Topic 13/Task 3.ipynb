{
 "cells": [
  {
   "cell_type": "markdown",
   "metadata": {},
   "source": [
    "### Task 3"
   ]
  },
  {
   "cell_type": "code",
   "execution_count": 3,
   "metadata": {},
   "outputs": [
    {
     "name": "stdout",
     "output_type": "stream",
     "text": [
      "[(2, 3, 1), (3, 4, 2), (1, 3, 3)]\n"
     ]
    }
   ],
   "source": [
    "class DisjointSet:\n",
    "    def __init__(self, n):\n",
    "        self.parent = list(range(n))\n",
    "        self.rank = [0] * n\n",
    "\n",
    "    def find(self, u):\n",
    "        if self.parent[u] != u:\n",
    "            self.parent[u] = self.find(self.parent[u])\n",
    "        return self.parent[u]\n",
    "\n",
    "    def union(self, u, v):\n",
    "        root_u = self.find(u)\n",
    "        root_v = self.find(v)\n",
    "        if root_u != root_v:\n",
    "            if self.rank[root_u] > self.rank[root_v]:\n",
    "                self.parent[root_v] = root_u\n",
    "            elif self.rank[root_u] < self.rank[root_v]:\n",
    "                self.parent[root_u] = root_v\n",
    "            else:\n",
    "                self.parent[root_v] = root_u\n",
    "                self.rank[root_u] += 1\n",
    "\n",
    "def kruskal(edges, n):\n",
    "    edges.sort(key=lambda x: x[2])\n",
    "    ds = DisjointSet(n)\n",
    "    mst = []\n",
    "\n",
    "    for u, v, weight in edges:\n",
    "        if ds.find(u - 1) != ds.find(v - 1):\n",
    "            ds.union(u - 1, v - 1)\n",
    "            mst.append((u, v, weight))\n",
    "            if len(mst) == n - 1:\n",
    "                break\n",
    "\n",
    "    return mst\n",
    "\n",
    "edges = [(1, 2, 4), (2, 3, 1), (1, 3, 3), (3, 4, 2)]\n",
    "print(kruskal(edges, 4))\n"
   ]
  }
 ],
 "metadata": {
  "kernelspec": {
   "display_name": "base",
   "language": "python",
   "name": "python3"
  },
  "language_info": {
   "codemirror_mode": {
    "name": "ipython",
    "version": 3
   },
   "file_extension": ".py",
   "mimetype": "text/x-python",
   "name": "python",
   "nbconvert_exporter": "python",
   "pygments_lexer": "ipython3",
   "version": "3.11.5"
  }
 },
 "nbformat": 4,
 "nbformat_minor": 2
}
