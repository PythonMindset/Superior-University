{
 "cells": [
  {
   "cell_type": "markdown",
   "metadata": {},
   "source": [
    "### Task 2"
   ]
  },
  {
   "cell_type": "code",
   "execution_count": 2,
   "metadata": {},
   "outputs": [
    {
     "name": "stdout",
     "output_type": "stream",
     "text": [
      "Huffman Codes: {'l': '00', 'e': '01', 'y': '100', 'r': '1010', 'g': '1011', 'd': '1100', ' ': '1101', 'h': '1110', 'o': '1111'}\n",
      "Encoded Text: 1110010000111111011011101001011100100\n",
      "Original Size: 96 bits\n",
      "Compressed Size: 37 bits\n",
      "\n",
      "Explanation:\n",
      "Huffman Coding is a greedy algorithm because it builds the tree by repeatedly merging the two smallest frequency nodes. This ensures that the most frequent characters get the shortest codes, minimizing the average code length.\n"
     ]
    }
   ],
   "source": [
    "import heapq\n",
    "from collections import defaultdict, Counter\n",
    "\n",
    "class HuffmanNode:\n",
    "    def __init__(self, char, freq):\n",
    "        self.char = char\n",
    "        self.freq = freq\n",
    "        self.left = None\n",
    "        self.right = None\n",
    "\n",
    "    def __lt__(self, other):\n",
    "        return self.freq < other.freq\n",
    "\n",
    "def build_huffman_tree(text):\n",
    "    freq_counter = Counter(text)\n",
    "    heap = [HuffmanNode(char, freq) for char, freq in freq_counter.items()]\n",
    "    heapq.heapify(heap)\n",
    "    while len(heap) > 1:\n",
    "        left = heapq.heappop(heap)\n",
    "        right = heapq.heappop(heap)\n",
    "        merged = HuffmanNode(None, left.freq + right.freq)\n",
    "        merged.left = left\n",
    "        merged.right = right\n",
    "        heapq.heappush(heap, merged)\n",
    "    return heap[0]\n",
    "\n",
    "def generate_huffman_codes(root, current_code=\"\", codes=None):\n",
    "    if codes is None:\n",
    "        codes = {}\n",
    "    if root is None:\n",
    "        return codes\n",
    "    if root.char is not None:\n",
    "        codes[root.char] = current_code\n",
    "    generate_huffman_codes(root.left, current_code + \"0\", codes)\n",
    "    generate_huffman_codes(root.right, current_code + \"1\", codes)\n",
    "    return codes\n",
    "\n",
    "def huffman_encoding(text):\n",
    "    if not text:\n",
    "        return {}, \"\"\n",
    "    root = build_huffman_tree(text)\n",
    "    huffman_codes = generate_huffman_codes(root)\n",
    "    encoded_text = ''.join(huffman_codes[char] for char in text)\n",
    "    return huffman_codes, encoded_text\n",
    "\n",
    "def compare_data_sizes(text, encoded_text):\n",
    "    original_size = len(text) * 8\n",
    "    compressed_size = len(encoded_text)\n",
    "    return original_size, compressed_size\n",
    "\n",
    "if __name__ == \"__main__\":\n",
    "    text = \"hello greedy\"\n",
    "    huffman_codes, encoded_text = huffman_encoding(text)\n",
    "    print(\"Huffman Codes:\", huffman_codes)\n",
    "    print(\"Encoded Text:\", encoded_text)\n",
    "    original_size, compressed_size = compare_data_sizes(text, encoded_text)\n",
    "    print(f\"Original Size: {original_size} bits\")\n",
    "    print(f\"Compressed Size: {compressed_size} bits\")\n",
    "    print(\"\\nExplanation:\")\n",
    "    print(\"Huffman Coding is a greedy algorithm because it builds the tree by repeatedly merging the two smallest frequency nodes. This ensures that the most frequent characters get the shortest codes, minimizing the average code length.\")\n"
   ]
  }
 ],
 "metadata": {
  "kernelspec": {
   "display_name": "base",
   "language": "python",
   "name": "python3"
  },
  "language_info": {
   "codemirror_mode": {
    "name": "ipython",
    "version": 3
   },
   "file_extension": ".py",
   "mimetype": "text/x-python",
   "name": "python",
   "nbconvert_exporter": "python",
   "pygments_lexer": "ipython3",
   "version": "3.11.5"
  }
 },
 "nbformat": 4,
 "nbformat_minor": 2
}
