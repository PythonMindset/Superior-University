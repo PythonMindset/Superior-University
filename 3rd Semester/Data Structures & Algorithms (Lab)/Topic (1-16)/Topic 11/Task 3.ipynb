{
 "cells": [
  {
   "cell_type": "markdown",
   "metadata": {},
   "source": [
    "### Task 3"
   ]
  },
  {
   "cell_type": "code",
   "execution_count": 3,
   "metadata": {},
   "outputs": [
    {
     "name": "stdout",
     "output_type": "stream",
     "text": [
      "A\n",
      "-1\n",
      "C\n",
      "-1\n",
      "C\n",
      "D\n"
     ]
    }
   ],
   "source": [
    "class Node:\n",
    "    def __init__(self, key, value):\n",
    "        self.key = key\n",
    "        self.value = value\n",
    "        self.prev = None\n",
    "        self.next = None\n",
    "\n",
    "class LRUCache:\n",
    "    def __init__(self, capacity: int):\n",
    "        self.capacity = capacity\n",
    "        self.cache = {}\n",
    "        self.head = Node(0, 0)\n",
    "        self.tail = Node(0, 0)\n",
    "        self.head.next = self.tail\n",
    "        self.tail.prev = self.head\n",
    "\n",
    "    def _remove(self, node: Node):\n",
    "        prev_node = node.prev\n",
    "        next_node = node.next\n",
    "        prev_node.next = next_node\n",
    "        next_node.prev = prev_node\n",
    "\n",
    "    def _add_to_head(self, node: Node):\n",
    "        node.next = self.head.next\n",
    "        node.prev = self.head\n",
    "        self.head.next.prev = node\n",
    "        self.head.next = node\n",
    "\n",
    "    def get(self, key: int) -> int:\n",
    "        if key in self.cache:\n",
    "            node = self.cache[key]\n",
    "            self._remove(node)\n",
    "            self._add_to_head(node)\n",
    "            return node.value\n",
    "        return -1\n",
    "\n",
    "    def put(self, key: int, value: int):\n",
    "        if key in self.cache:\n",
    "            node = self.cache[key]\n",
    "            self._remove(node)\n",
    "        elif len(self.cache) >= self.capacity:\n",
    "            lru = self.tail.prev\n",
    "            self._remove(lru)\n",
    "            del self.cache[lru.key]\n",
    "        new_node = Node(key, value)\n",
    "        self.cache[key] = new_node\n",
    "        self._add_to_head(new_node)\n",
    "\n",
    "if __name__ == \"__main__\":\n",
    "    cache = LRUCache(2)\n",
    "    cache.put(1, \"A\")\n",
    "    cache.put(2, \"B\")\n",
    "    print(cache.get(1))\n",
    "    cache.put(3, \"C\")\n",
    "    print(cache.get(2))\n",
    "    print(cache.get(3))\n",
    "    cache.put(4, \"D\")\n",
    "    print(cache.get(1))\n",
    "    print(cache.get(3))\n",
    "    print(cache.get(4))\n"
   ]
  }
 ],
 "metadata": {
  "kernelspec": {
   "display_name": "base",
   "language": "python",
   "name": "python3"
  },
  "language_info": {
   "codemirror_mode": {
    "name": "ipython",
    "version": 3
   },
   "file_extension": ".py",
   "mimetype": "text/x-python",
   "name": "python",
   "nbconvert_exporter": "python",
   "pygments_lexer": "ipython3",
   "version": "3.11.5"
  }
 },
 "nbformat": 4,
 "nbformat_minor": 2
}
