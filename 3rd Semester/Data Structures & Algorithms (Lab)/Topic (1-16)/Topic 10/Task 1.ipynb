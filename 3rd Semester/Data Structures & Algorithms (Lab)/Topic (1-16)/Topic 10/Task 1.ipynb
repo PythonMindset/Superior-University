{
 "cells": [
  {
   "cell_type": "markdown",
   "metadata": {},
   "source": [
    "### Task 1"
   ]
  },
  {
   "cell_type": "code",
   "execution_count": 2,
   "metadata": {},
   "outputs": [
    {
     "name": "stdout",
     "output_type": "stream",
     "text": [
      "2\n",
      "3\n",
      "Array Size: 1000\n",
      "Linear Search Time: 0.000000 seconds\n",
      "Binary Search Time: 0.000000 seconds\n",
      "----------------------------------------\n",
      "Array Size: 5000\n",
      "Linear Search Time: 0.000997 seconds\n",
      "Binary Search Time: 0.000000 seconds\n",
      "----------------------------------------\n",
      "Array Size: 10000\n",
      "Linear Search Time: 0.000154 seconds\n",
      "Binary Search Time: 0.000000 seconds\n",
      "----------------------------------------\n"
     ]
    }
   ],
   "source": [
    "import time\n",
    "import random\n",
    "\n",
    "def linear_search(arr, target):\n",
    "    for i in range(len(arr)):\n",
    "        if arr[i] == target:\n",
    "            return i\n",
    "    return -1\n",
    "\n",
    "def binary_search(arr, target):\n",
    "    left, right = 0, len(arr) - 1\n",
    "    while left <= right:\n",
    "        mid = (left + right) // 2\n",
    "        if arr[mid] == target:\n",
    "            return mid\n",
    "        elif arr[mid] > target:\n",
    "            return mid\n",
    "        elif arr[mid] < target:\n",
    "            left = mid + 1\n",
    "        else:\n",
    "            right = mid - 1\n",
    "    return -1\n",
    "\n",
    "# Performance Comparison\n",
    "def compare_search_algorithms():\n",
    "\n",
    "    sizes = [1000, 5000, 10000]\n",
    "    for size in sizes:\n",
    "        arr = [random.randint(1, size * 10) for _ in range(size)]\n",
    "        target = random.choice(arr)\n",
    "        sorted_arr = sorted(arr)\n",
    "\n",
    "        # Linear Search\n",
    "        start_time = time.time()\n",
    "        linear_search(arr, target)\n",
    "        linear_time = time.time() - start_time\n",
    "\n",
    "        # Binary Search\n",
    "        start_time = time.time()\n",
    "        binary_search(sorted_arr, target)\n",
    "        binary_time = time.time() - start_time\n",
    "\n",
    "        print(f\"Array Size: {size}\")\n",
    "        print(f\"Linear Search Time: {linear_time:.6f} seconds\")\n",
    "        print(f\"Binary Search Time: {binary_time:.6f} seconds\")\n",
    "        print(\"-\" * 40)\n",
    "\n",
    "# Test Cases\n",
    "if __name__ == \"__main__\":\n",
    "    # Example Input & Output\n",
    "    arr = [10, 23, 45, 70, 11, 15]\n",
    "    print(linear_search(arr, 45))  # Output: 2\n",
    "\n",
    "    sorted_arr = [10, 15, 23, 45, 70]\n",
    "    print(binary_search(sorted_arr, 45))  # Output: 3\n",
    "\n",
    "    # Performance Comparison\n",
    "    compare_search_algorithms()"
   ]
  }
 ],
 "metadata": {
  "kernelspec": {
   "display_name": "base",
   "language": "python",
   "name": "python3"
  },
  "language_info": {
   "codemirror_mode": {
    "name": "ipython",
    "version": 3
   },
   "file_extension": ".py",
   "mimetype": "text/x-python",
   "name": "python",
   "nbconvert_exporter": "python",
   "pygments_lexer": "ipython3",
   "version": "3.11.5"
  }
 },
 "nbformat": 4,
 "nbformat_minor": 2
}
