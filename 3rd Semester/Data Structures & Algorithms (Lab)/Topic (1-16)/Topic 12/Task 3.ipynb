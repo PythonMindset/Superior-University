{
 "cells": [
  {
   "cell_type": "markdown",
   "metadata": {},
   "source": [
    "### Task 3"
   ]
  },
  {
   "cell_type": "code",
   "execution_count": 3,
   "metadata": {},
   "outputs": [
    {
     "name": "stdout",
     "output_type": "stream",
     "text": [
      "{'A': 0, 'B': 3, 'C': 1, 'D': 4}\n"
     ]
    }
   ],
   "source": [
    "import heapq\n",
    "from collections import defaultdict\n",
    "\n",
    "class Graph:\n",
    "    def __init__(self):\n",
    "        self.graph = defaultdict(list)\n",
    "\n",
    "    def add_edge(self, u, v, weight):\n",
    "        self.graph[u].append((v, weight))\n",
    "        self.graph[v].append((u, weight))\n",
    "\n",
    "    def dijkstra(self, start):\n",
    "        pq = []\n",
    "        heapq.heappush(pq, (0, start))\n",
    "        \n",
    "        distances = {node: float('inf') for node in self.graph}\n",
    "        distances[start] = 0\n",
    "        \n",
    "        visited = set()\n",
    "\n",
    "        while pq:\n",
    "            current_distance, current_node = heapq.heappop(pq)\n",
    "\n",
    "            if current_node in visited:\n",
    "                continue\n",
    "\n",
    "            visited.add(current_node)\n",
    "\n",
    "            for neighbor, weight in self.graph[current_node]:\n",
    "                distance = current_distance + weight\n",
    "\n",
    "                if distance < distances[neighbor]:\n",
    "                    distances[neighbor] = distance\n",
    "                    heapq.heappush(pq, (distance, neighbor))\n",
    "\n",
    "        return distances\n",
    "\n",
    "g = Graph()\n",
    "g.add_edge(\"A\", \"B\", 4)\n",
    "g.add_edge(\"A\", \"C\", 1)\n",
    "g.add_edge(\"C\", \"B\", 2)\n",
    "g.add_edge(\"B\", \"D\", 1)\n",
    "print(g.dijkstra(\"A\"))\n"
   ]
  }
 ],
 "metadata": {
  "kernelspec": {
   "display_name": "base",
   "language": "python",
   "name": "python3"
  },
  "language_info": {
   "codemirror_mode": {
    "name": "ipython",
    "version": 3
   },
   "file_extension": ".py",
   "mimetype": "text/x-python",
   "name": "python",
   "nbconvert_exporter": "python",
   "pygments_lexer": "ipython3",
   "version": "3.11.5"
  }
 },
 "nbformat": 4,
 "nbformat_minor": 2
}
