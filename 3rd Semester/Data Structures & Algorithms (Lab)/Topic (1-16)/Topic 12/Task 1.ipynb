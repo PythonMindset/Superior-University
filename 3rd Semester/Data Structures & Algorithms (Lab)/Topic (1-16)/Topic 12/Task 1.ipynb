{
 "cells": [
  {
   "cell_type": "markdown",
   "metadata": {},
   "source": [
    "### Task 1"
   ]
  },
  {
   "cell_type": "code",
   "execution_count": 1,
   "metadata": {},
   "outputs": [
    {
     "name": "stdout",
     "output_type": "stream",
     "text": [
      "Adjacency List: {'A': ['B'], 'B': []}\n",
      "Adjacency Matrix:\n",
      "   A B\n",
      "A [0, 1]\n",
      "B [0, 0]\n"
     ]
    }
   ],
   "source": [
    "class Graph:\n",
    "    def __init__(self, directed=False):\n",
    "        self.directed = directed\n",
    "        self.adj_list = {}\n",
    "        self.vertices = []\n",
    "        self.adj_matrix = []\n",
    "\n",
    "    def add_vertex(self, vertex):\n",
    "        if vertex not in self.adj_list:\n",
    "            self.adj_list[vertex] = []\n",
    "            self.vertices.append(vertex)\n",
    "            size = len(self.vertices)\n",
    "            for row in self.adj_matrix:\n",
    "                row.append(0)\n",
    "            self.adj_matrix.append([0] * size)\n",
    "\n",
    "    def add_edge(self, start, end):\n",
    "        if start not in self.adj_list or end not in self.adj_list:\n",
    "            raise ValueError(\"Both vertices must exist in the graph.\")\n",
    "        \n",
    "        self.adj_list[start].append(end)\n",
    "        if not self.directed:\n",
    "            self.adj_list[end].append(start)\n",
    "        \n",
    "        start_idx = self.vertices.index(start)\n",
    "        end_idx = self.vertices.index(end)\n",
    "        self.adj_matrix[start_idx][end_idx] = 1\n",
    "        if not self.directed:\n",
    "            self.adj_matrix[end_idx][start_idx] = 1\n",
    "\n",
    "    def display_adj_list(self):\n",
    "        print(\"Adjacency List:\", self.adj_list)\n",
    "\n",
    "    def display_adj_matrix(self):\n",
    "        print(\"Adjacency Matrix:\")\n",
    "        print(\"  \", \" \".join(self.vertices))\n",
    "        for i, row in enumerate(self.adj_matrix):\n",
    "            print(self.vertices[i], row)\n",
    "\n",
    "\n",
    "g = Graph(directed=True)\n",
    "g.add_vertex(\"A\")\n",
    "g.add_vertex(\"B\")\n",
    "g.add_edge(\"A\", \"B\")\n",
    "g.display_adj_list()\n",
    "g.display_adj_matrix()\n"
   ]
  }
 ],
 "metadata": {
  "kernelspec": {
   "display_name": "base",
   "language": "python",
   "name": "python3"
  },
  "language_info": {
   "codemirror_mode": {
    "name": "ipython",
    "version": 3
   },
   "file_extension": ".py",
   "mimetype": "text/x-python",
   "name": "python",
   "nbconvert_exporter": "python",
   "pygments_lexer": "ipython3",
   "version": "3.11.5"
  }
 },
 "nbformat": 4,
 "nbformat_minor": 2
}
