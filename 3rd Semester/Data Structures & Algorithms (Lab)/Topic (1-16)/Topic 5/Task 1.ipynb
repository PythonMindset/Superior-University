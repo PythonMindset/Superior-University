{
 "cells": [
  {
   "cell_type": "markdown",
   "metadata": {},
   "source": [
    "### Task 1"
   ]
  },
  {
   "cell_type": "code",
   "execution_count": 2,
   "metadata": {},
   "outputs": [
    {
     "name": "stdout",
     "output_type": "stream",
     "text": [
      "name: John\n",
      "age: 25\n",
      "city: New York\n",
      "name: John\n",
      "city: New York\n"
     ]
    },
    {
     "data": {
      "text/plain": [
       "'New York'"
      ]
     },
     "execution_count": 2,
     "metadata": {},
     "output_type": "execute_result"
    }
   ],
   "source": [
    "class hash_table:\n",
    "    def __init__(self):\n",
    "        self.hash={}\n",
    "    \n",
    "    def insert(self,key,value):\n",
    "        self.hash[key]=value\n",
    "    \n",
    "    def get(self,key):\n",
    "        if key in self.hash:\n",
    "            return self.hash[key]\n",
    "        else:\n",
    "            return None\n",
    "    \n",
    "    def delete(self,key):\n",
    "        if key in self.hash:\n",
    "            del self.hash[key]\n",
    "        else:\n",
    "            print(\"Key not found\")\n",
    "    \n",
    "    def display(self):\n",
    "        for key in self.hash:\n",
    "            print(f\"{key}: {self.hash[key]}\")\n",
    "\n",
    "obj1=hash_table()\n",
    "obj1.insert(\"name\",\"John\")\n",
    "obj1.insert(\"age\",25)\n",
    "obj1.insert(\"city\",\"New York\")\n",
    "obj1.display()\n",
    "obj1.delete(\"age\")\n",
    "obj1.display()\n",
    "obj1.get(\"city\")"
   ]
  }
 ],
 "metadata": {
  "kernelspec": {
   "display_name": "base",
   "language": "python",
   "name": "python3"
  },
  "language_info": {
   "codemirror_mode": {
    "name": "ipython",
    "version": 3
   },
   "file_extension": ".py",
   "mimetype": "text/x-python",
   "name": "python",
   "nbconvert_exporter": "python",
   "pygments_lexer": "ipython3",
   "version": "3.11.5"
  }
 },
 "nbformat": 4,
 "nbformat_minor": 2
}
