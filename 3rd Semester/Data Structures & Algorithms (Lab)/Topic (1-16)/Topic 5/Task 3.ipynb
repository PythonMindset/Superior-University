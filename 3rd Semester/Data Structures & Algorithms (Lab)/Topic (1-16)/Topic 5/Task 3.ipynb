{
 "cells": [
  {
   "cell_type": "markdown",
   "metadata": {},
   "source": [
    "### Task 3"
   ]
  },
  {
   "cell_type": "code",
   "execution_count": 1,
   "metadata": {},
   "outputs": [
    {
     "name": "stdout",
     "output_type": "stream",
     "text": [
      "1: 10 -> NULL\n",
      "1: 10 -> 2: 20 -> NULL\n",
      "1: 10 -> 2: 20 -> 3: 30 -> NULL\n",
      "1: 10 -> 2: 20 -> 3: 30 -> 4: 40 -> NULL\n",
      "1: 10 -> 2: 20 -> 3: 30 -> 4: 40 -> 5: 50 -> NULL\n",
      "2: 20 -> 3: 30 -> 4: 40 -> 5: 50 -> 6: 60 -> NULL\n",
      "3: 30 -> 4: 40 -> 5: 50 -> 6: 60 -> 7: 70 -> NULL\n",
      "4: 40 -> 5: 50 -> 6: 60 -> 7: 70 -> 8: 80 -> NULL\n",
      "5: 50 -> 6: 60 -> 7: 70 -> 8: 80 -> 9: 90 -> NULL\n",
      "6: 60 -> 7: 70 -> 8: 80 -> 9: 90 -> 10: 100 -> NULL\n",
      "60\n",
      "7: 70 -> 8: 80 -> 9: 90 -> 10: 100 -> 6: 60 -> NULL\n",
      "-1\n",
      "7: 70 -> 8: 80 -> 9: 90 -> 10: 100 -> 6: 60 -> NULL\n",
      "8: 80 -> 9: 90 -> 10: 100 -> 6: 60 -> 11: 110 -> NULL\n"
     ]
    }
   ],
   "source": [
    "class Node:\n",
    "    def __init__(self, key, value):\n",
    "        self.key = key\n",
    "        self.value = value\n",
    "        self.prev = None\n",
    "        self.next = None\n",
    "\n",
    "class LRUCache:\n",
    "    def __init__(self, capacity):\n",
    "        self.capacity = capacity\n",
    "        self.cache = {}\n",
    "        self.head = Node(0, 0)\n",
    "        self.tail = Node(0, 0)\n",
    "        self.head.next = self.tail\n",
    "        self.tail.prev = self.head\n",
    "\n",
    "    def _remove(self, node):\n",
    "        prev_node = node.prev\n",
    "        next_node = node.next\n",
    "        prev_node.next = next_node\n",
    "        next_node.prev = prev_node\n",
    "\n",
    "    def _add(self, node):\n",
    "        prev_tail = self.tail.prev\n",
    "        prev_tail.next = node\n",
    "        node.prev = prev_tail\n",
    "        node.next = self.tail\n",
    "        self.tail.prev = node\n",
    "\n",
    "    def put(self, key, value):\n",
    "        if key in self.cache:\n",
    "            self._remove(self.cache[key])\n",
    "        node = Node(key, value)\n",
    "        self._add(node)\n",
    "        self.cache[key] = node\n",
    "        if len(self.cache) > self.capacity:\n",
    "            lru = self.head.next\n",
    "            self._remove(lru)\n",
    "            del self.cache[lru.key]\n",
    "\n",
    "    def get(self, key):\n",
    "        if key in self.cache:\n",
    "            node = self.cache[key]\n",
    "            self._remove(node)\n",
    "            self._add(node)\n",
    "            return node.value\n",
    "        return -1\n",
    "\n",
    "    def display(self):\n",
    "        current = self.head.next\n",
    "        while current != self.tail:\n",
    "            print(f\"{current.key}: {current.value}\", end=\" -> \")\n",
    "            current = current.next\n",
    "        print(\"NULL\")\n",
    "\n",
    "cache = LRUCache(5)\n",
    "\n",
    "for i in range(1, 11):\n",
    "    cache.put(i, i * 10)\n",
    "    cache.display()\n",
    "\n",
    "print(cache.get(6))\n",
    "cache.display()\n",
    "\n",
    "print(cache.get(3))\n",
    "cache.display()\n",
    "\n",
    "cache.put(11, 110)\n",
    "cache.display()"
   ]
  }
 ],
 "metadata": {
  "kernelspec": {
   "display_name": "base",
   "language": "python",
   "name": "python3"
  },
  "language_info": {
   "codemirror_mode": {
    "name": "ipython",
    "version": 3
   },
   "file_extension": ".py",
   "mimetype": "text/x-python",
   "name": "python",
   "nbconvert_exporter": "python",
   "pygments_lexer": "ipython3",
   "version": "3.11.5"
  }
 },
 "nbformat": 4,
 "nbformat_minor": 2
}
