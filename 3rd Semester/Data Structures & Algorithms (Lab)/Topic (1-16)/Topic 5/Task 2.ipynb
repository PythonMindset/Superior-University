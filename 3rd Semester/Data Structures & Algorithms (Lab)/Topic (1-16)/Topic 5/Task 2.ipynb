{
 "cells": [
  {
   "cell_type": "markdown",
   "metadata": {},
   "source": [
    "### Task 2"
   ]
  },
  {
   "cell_type": "code",
   "execution_count": 3,
   "metadata": {},
   "outputs": [
    {
     "name": "stdout",
     "output_type": "stream",
     "text": [
      "'listen' and 'silent' are anagrams: True\n",
      "'triangle' and 'integral' are anagrams: True\n",
      "'apple' and 'pale' are anagrams: False\n",
      "'hello' and 'oellh' are anagrams: True\n",
      "'aabbcc' and 'abcabc' are anagrams: True\n",
      "'a' and 'b' are anagrams: False\n"
     ]
    }
   ],
   "source": [
    "def are_anagrams(str1, str2):\n",
    "    if len(str1) != len(str2):\n",
    "        return False\n",
    "    count1 = {}\n",
    "    count2 = {}\n",
    "    for char in str1:\n",
    "        if char in count1:\n",
    "            count1[char] += 1\n",
    "        else:\n",
    "            count1[char] = 1\n",
    "    for char in str2:\n",
    "        if char in count2:\n",
    "            count2[char] += 1\n",
    "        else:\n",
    "            count2[char] = 1\n",
    "    return count1 == count2\n",
    "\n",
    "test_cases = [\n",
    "    (\"listen\", \"silent\"),\n",
    "    (\"triangle\", \"integral\"),\n",
    "    (\"apple\", \"pale\"),\n",
    "    (\"hello\", \"oellh\"),\n",
    "    (\"aabbcc\", \"abcabc\"),\n",
    "    (\"a\", \"b\")\n",
    "]\n",
    "\n",
    "for str1, str2 in test_cases:\n",
    "    result = are_anagrams(str1, str2)\n",
    "    print(f\"'{str1}' and '{str2}' are anagrams: {result}\")"
   ]
  }
 ],
 "metadata": {
  "kernelspec": {
   "display_name": "base",
   "language": "python",
   "name": "python3"
  },
  "language_info": {
   "codemirror_mode": {
    "name": "ipython",
    "version": 3
   },
   "file_extension": ".py",
   "mimetype": "text/x-python",
   "name": "python",
   "nbconvert_exporter": "python",
   "pygments_lexer": "ipython3",
   "version": "3.11.5"
  }
 },
 "nbformat": 4,
 "nbformat_minor": 2
}
