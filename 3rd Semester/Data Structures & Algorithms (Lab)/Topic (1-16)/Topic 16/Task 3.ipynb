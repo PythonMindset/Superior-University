{
 "cells": [
  {
   "cell_type": "markdown",
   "metadata": {},
   "source": [
    "### Task 3"
   ]
  },
  {
   "cell_type": "code",
   "execution_count": 3,
   "metadata": {},
   "outputs": [
    {
     "name": "stdout",
     "output_type": "stream",
     "text": [
      "True\n",
      "True\n",
      "False\n"
     ]
    }
   ],
   "source": [
    "class UnionFind:\n",
    "    def __init__(self, vertices):\n",
    "        self.parent = {v: v for v in vertices}\n",
    "        self.rank = {v: 0 for v in vertices}\n",
    "\n",
    "    def find(self, v):\n",
    "        if self.parent[v] != v:\n",
    "            self.parent[v] = self.find(self.parent[v])  # Path compression\n",
    "        return self.parent[v]\n",
    "\n",
    "    def union(self, v1, v2):\n",
    "        root1 = self.find(v1)\n",
    "        root2 = self.find(v2)\n",
    "\n",
    "        if root1 != root2:\n",
    "            if self.rank[root1] > self.rank[root2]:\n",
    "                self.parent[root2] = root1\n",
    "            elif self.rank[root1] < self.rank[root2]:\n",
    "                self.parent[root1] = root2\n",
    "            else:\n",
    "                self.parent[root2] = root1\n",
    "                self.rank[root1] += 1\n",
    "\n",
    "def detect_cycle_undirected(graph):\n",
    "    edges = []\n",
    "    for node, neighbors in graph.items():\n",
    "        for neighbor in neighbors:\n",
    "            if (neighbor, node) not in edges:\n",
    "                edges.append((node, neighbor))\n",
    "\n",
    "    uf = UnionFind(graph.keys())\n",
    "\n",
    "    for v1, v2 in edges:\n",
    "        if uf.find(v1) == uf.find(v2):\n",
    "            return True\n",
    "        uf.union(v1, v2)\n",
    "\n",
    "    return False\n",
    "\n",
    "def detect_cycle_directed(graph):\n",
    "    visited = set()\n",
    "    rec_stack = set()\n",
    "\n",
    "    def dfs(node):\n",
    "        if node not in visited:\n",
    "            visited.add(node)\n",
    "            rec_stack.add(node)\n",
    "\n",
    "            for neighbor in graph.get(node, []):\n",
    "                if neighbor not in visited and dfs(neighbor):\n",
    "                    return True\n",
    "                elif neighbor in rec_stack:\n",
    "                    return True\n",
    "\n",
    "            rec_stack.remove(node)\n",
    "        return False\n",
    "\n",
    "    for node in graph:\n",
    "        if dfs(node):\n",
    "            return True\n",
    "\n",
    "    return False\n",
    "\n",
    "if __name__ == \"__main__\":\n",
    "    graph_undirected = {\n",
    "        'A': ['B', 'C'],\n",
    "        'B': ['A', 'D'],\n",
    "        'C': ['A', 'D'],\n",
    "        'D': ['B', 'C']\n",
    "    }\n",
    "    print(detect_cycle_undirected(graph_undirected))\n",
    "\n",
    "    graph_directed = {\n",
    "        'A': ['B'],\n",
    "        'B': ['C'],\n",
    "        'C': ['A']\n",
    "    }\n",
    "    print(detect_cycle_directed(graph_directed))\n",
    "\n",
    "    graph_directed_acyclic = {\n",
    "        'A': ['B'],\n",
    "        'B': ['C'],\n",
    "        'C': []\n",
    "    }\n",
    "    print(detect_cycle_directed(graph_directed_acyclic))\n"
   ]
  }
 ],
 "metadata": {
  "kernelspec": {
   "display_name": "base",
   "language": "python",
   "name": "python3"
  },
  "language_info": {
   "codemirror_mode": {
    "name": "ipython",
    "version": 3
   },
   "file_extension": ".py",
   "mimetype": "text/x-python",
   "name": "python",
   "nbconvert_exporter": "python",
   "pygments_lexer": "ipython3",
   "version": "3.11.5"
  }
 },
 "nbformat": 4,
 "nbformat_minor": 2
}
