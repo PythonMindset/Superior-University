{
 "cells": [
  {
   "cell_type": "markdown",
   "metadata": {},
   "source": [
    "### Task 1"
   ]
  },
  {
   "cell_type": "code",
   "execution_count": null,
   "metadata": {},
   "outputs": [
    {
     "name": "stdout",
     "output_type": "stream",
     "text": [
      "Array created successfully.\n",
      "[None, None, None, None, None, None, None, None, None, '8']\n",
      "End index already occupied.\n",
      "Element deleted successfully.\n",
      "[None, None, None, None, None, None, None, None, None, '8']\n",
      "The element 8 is found at: 9\n",
      "Array resized successfully.\n",
      "[None, None, None, None, None, None, None, None, None, '8', None, None]\n"
     ]
    }
   ],
   "source": [
    "class customer_dynamic_array:\n",
    "    def __init__(self,size):\n",
    "        self.size=size\n",
    "        self.array=[]\n",
    "        for i in range(size):\n",
    "            self.array.append(None)\n",
    "        print(\"Array created successfully.\")\n",
    "    \n",
    "    def insert_at_end(self):\n",
    "        if self.array[-1]!=None:\n",
    "            print(\"End index already occupied.\")\n",
    "        else:\n",
    "            element=input(\"Enter the element: \")\n",
    "            self.array[-1]=element\n",
    "            print(self.array)\n",
    "    \n",
    "    def insert_at_index(self):\n",
    "        index=int(input(\"Enter the index you want to add an element: \"))\n",
    "        if index>=self.size:\n",
    "            print(\"Index out of range.\")\n",
    "        elif index is not None: \n",
    "            print(\"End index already occupied.\")\n",
    "        elif index is None: \n",
    "            self.array[index]=input(\"Enter the element: \")\n",
    "            print(self.array)\n",
    "    \n",
    "    def delete_at_index(self):\n",
    "        index=int(input(\"Enter the index on which you want to delete element: \"))\n",
    "        if index>=self.size:\n",
    "            print(\"Index out of range.\")\n",
    "        elif index is None:\n",
    "            print(\"End index already empty.\")\n",
    "        elif index is not None:\n",
    "            self.array[index]=None\n",
    "            print(\"Element deleted successfully.\")\n",
    "            print(self.array)\n",
    "\n",
    "    def search(self):\n",
    "        element=input(\"Enter the element to search: \")\n",
    "        if element in self.array:\n",
    "            print(f\"The element {element} is found at: {self.array.index(element)}\")\n",
    "        else:\n",
    "            print(\"-1\")\n",
    "    \n",
    "    def resize(self):\n",
    "        new_size=int(input(\"Enter the new size of the array: \"))\n",
    "        if new_size<self.size:\n",
    "            print(\"New size needs to be greater than old size\")\n",
    "        else: \n",
    "            for i in range(new_size-self.size):\n",
    "                self.array.append(None)\n",
    "            print(\"Array resized successfully.\")\n",
    "            print(self.array)\n",
    "\n",
    "size=int(input(\"Enter the size of the array: \"))    \n",
    "obj1=customer_dynamic_array(size)\n",
    "obj1.insert_at_end()\n",
    "obj1.insert_at_index()\n",
    "obj1.delete_at_index()\n",
    "obj1.search()\n",
    "obj1.resize()"
   ]
  },
  {
   "cell_type": "markdown",
   "metadata": {},
   "source": [
    "### Task 2"
   ]
  },
  {
   "cell_type": "code",
   "execution_count": 1,
   "metadata": {},
   "outputs": [
    {
     "name": "stdout",
     "output_type": "stream",
     "text": [
      "Input string: abcabcbb\n",
      "Brute force result: ('abc', 3), Time: 0.000000 seconds\n",
      "Sliding window result: ('abc', 3), Time: 0.000000 seconds\n",
      "--------------------------------------------------\n",
      "Input string: bbbbb\n",
      "Brute force result: ('b', 1), Time: 0.000000 seconds\n",
      "Sliding window result: ('b', 1), Time: 0.000000 seconds\n",
      "--------------------------------------------------\n",
      "Input string: pwwkew\n",
      "Brute force result: ('wke', 3), Time: 0.000000 seconds\n",
      "Sliding window result: ('wke', 3), Time: 0.000000 seconds\n",
      "--------------------------------------------------\n",
      "Input string: abcdef\n",
      "Brute force result: ('abcdef', 6), Time: 0.000000 seconds\n",
      "Sliding window result: ('abcdef', 6), Time: 0.000000 seconds\n",
      "--------------------------------------------------\n",
      "Input string: aab\n",
      "Brute force result: ('ab', 2), Time: 0.000000 seconds\n",
      "Sliding window result: ('ab', 2), Time: 0.000000 seconds\n",
      "--------------------------------------------------\n",
      "Input string: dvdf\n",
      "Brute force result: ('vdf', 3), Time: 0.000000 seconds\n",
      "Sliding window result: ('vdf', 3), Time: 0.000000 seconds\n",
      "--------------------------------------------------\n",
      "Input string: \n",
      "Brute force result: ('', 0), Time: 0.000000 seconds\n",
      "Sliding window result: ('', 0), Time: 0.000000 seconds\n",
      "--------------------------------------------------\n"
     ]
    }
   ],
   "source": [
    "import time\n",
    "\n",
    "def longest_substring_brute_force(s):\n",
    "    n = len(s)\n",
    "    max_length = 0\n",
    "    longest_substring = \"\"\n",
    "    for i in range(n):\n",
    "        seen = set()\n",
    "        current_substring = \"\"\n",
    "        for j in range(i, n):\n",
    "            if s[j] in seen:\n",
    "                break\n",
    "            seen.add(s[j])\n",
    "            current_substring += s[j]\n",
    "        if len(current_substring) > max_length:\n",
    "            max_length = len(current_substring)\n",
    "            longest_substring = current_substring\n",
    "    return longest_substring, max_length\n",
    "def longest_substring_sliding_window(s):\n",
    "    char_index_map = {}\n",
    "    start = 0\n",
    "    max_length = 0\n",
    "    longest_substring = \"\"\n",
    "    for end in range(len(s)):\n",
    "        if s[end] in char_index_map and char_index_map[s[end]] >= start:\n",
    "            start = char_index_map[s[end]] + 1\n",
    "        char_index_map[s[end]] = end\n",
    "        current_length = end - start + 1\n",
    "        if current_length > max_length:\n",
    "            max_length = current_length\n",
    "            longest_substring = s[start:end + 1]\n",
    "    return longest_substring, max_length\n",
    "def compare_methods():\n",
    "    test_cases = [\n",
    "        \"abcabcbb\",\n",
    "        \"bbbbb\",\n",
    "        \"pwwkew\",\n",
    "        \"abcdef\",\n",
    "        \"aab\",\n",
    "        \"dvdf\",\n",
    "        \"\"\n",
    "    ]\n",
    "    for s in test_cases:\n",
    "        print(f\"Input string: {s}\")\n",
    "        start_time = time.time()\n",
    "        result_brute_force = longest_substring_brute_force(s)\n",
    "        brute_force_time = time.time() - start_time\n",
    "        print(f\"Brute force result: {result_brute_force}, Time: {brute_force_time:.6f} seconds\")\n",
    "        start_time = time.time()\n",
    "        result_sliding_window = longest_substring_sliding_window(s)\n",
    "        sliding_window_time = time.time() - start_time\n",
    "        print(f\"Sliding window result: {result_sliding_window}, Time: {sliding_window_time:.6f} seconds\")\n",
    "        print(\"-\" * 50)\n",
    "\n",
    "compare_methods()"
   ]
  },
  {
   "cell_type": "markdown",
   "metadata": {},
   "source": [
    "### Task 3"
   ]
  },
  {
   "cell_type": "code",
   "execution_count": 7,
   "metadata": {},
   "outputs": [
    {
     "name": "stdout",
     "output_type": "stream",
     "text": [
      "Original Matrix:\n",
      "[1, 2, 3]\n",
      "[4, 5, 6]\n",
      "[7, 8, 9]\n",
      "\n",
      "Matrix after 90-degree clockwise rotation:\n",
      "[7, 4, 1]\n",
      "[8, 5, 2]\n",
      "[9, 6, 3]\n",
      "\n"
     ]
    }
   ],
   "source": [
    "def rotate_matrix(matrix):\n",
    "    n=len(matrix)\n",
    "    for i in range(n):\n",
    "        for j in range(i+1,n):\n",
    "            matrix[i][j],matrix[j][i]=matrix[j][i],matrix[i][j]\n",
    "    for i in range(n):\n",
    "        matrix[i].reverse()\n",
    "def print_matrix(matrix):\n",
    "    for row in matrix:\n",
    "        print(row)\n",
    "    print()\n",
    "matrix = [\n",
    "    [1, 2, 3],\n",
    "    [4, 5, 6],\n",
    "    [7, 8, 9]\n",
    "]\n",
    "print(\"Original Matrix:\")\n",
    "print_matrix(matrix)\n",
    "rotate_matrix(matrix)\n",
    "print(\"Matrix after 90-degree clockwise rotation:\")\n",
    "print_matrix(matrix)"
   ]
  }
 ],
 "metadata": {
  "kernelspec": {
   "display_name": "base",
   "language": "python",
   "name": "python3"
  },
  "language_info": {
   "codemirror_mode": {
    "name": "ipython",
    "version": 3
   },
   "file_extension": ".py",
   "mimetype": "text/x-python",
   "name": "python",
   "nbconvert_exporter": "python",
   "pygments_lexer": "ipython3",
   "version": "3.11.5"
  }
 },
 "nbformat": 4,
 "nbformat_minor": 2
}
